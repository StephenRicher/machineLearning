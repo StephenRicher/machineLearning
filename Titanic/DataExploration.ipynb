{
 "cells": [
  {
   "cell_type": "code",
   "execution_count": null,
   "metadata": {},
   "outputs": [],
   "source": [
    "import os\n",
    "import warnings\n",
    "import numpy as np\n",
    "import pandas as pd\n",
    "import seaborn as sns\n",
    "from scipy import stats\n",
    "from scipy import linalg\n",
    "import matplotlib.pyplot as plt\n",
    "from scipy.stats import kendalltau\n",
    "from sklearn.covariance import MinCovDet\n",
    "from pandas.api.types import is_numeric_dtype, is_bool_dtype\n",
    "from matplotlib.colors import TwoSlopeNorm, LogNorm\n",
    "from sklearn.base import BaseEstimator, TransformerMixin"
   ]
  },
  {
   "cell_type": "code",
   "execution_count": null,
   "metadata": {},
   "outputs": [],
   "source": [
    "def showMissing(df):\n",
    "    \"\"\" Show features with missing values \"\"\"\n",
    "    nullOrd = df.isnull().sum().sort_values(ascending=False)\n",
    "    nullOrd = nullOrd[nullOrd > 0]\n",
    "    nullOrd = pd.DataFrame(nullOrd, columns=['TotalNA'])\n",
    "    nullOrd['PropNA'] = nullOrd['TotalNA'] / len(X)\n",
    "    return nullOrd\n",
    "\n",
    "\n",
    "def computeCorrelation(df, p=0.05):\n",
    "    \"\"\" Compute pairwise correlation, p-value and pair counts \"\"\"\n",
    "    correlations = []\n",
    "    for method in ['kendall', kendalltaur_pval, countPair]:\n",
    "        values = df.corr(method=method).stack()\n",
    "        correlations.append(values)\n",
    "    correlations = (\n",
    "        pd.concat(correlations, axis=1)\n",
    "        .reset_index()\n",
    "        .rename(columns={'level_0': 'feature1',\n",
    "                         'level_1': 'feature2',\n",
    "                         0: 'R', 1: 'p', 2: 'n'}))\n",
    "    correlations['significant'] = correlations['p'] < p\n",
    "    correlations = correlations[correlations['feature1'] != correlations['feature2']]\n",
    "    return correlations\n",
    "\n",
    "\n",
    "def kendalltaur_pval(x,y):\n",
    "    try:\n",
    "        return kendalltau(x,y)[1]\n",
    "    except ValueError:\n",
    "        return np.nan\n",
    "\n",
    "\n",
    "def countPair(x, y):\n",
    "    \"\"\" Return count of valid pairs (both not nan) \"\"\"\n",
    "\n",
    "    # Indices where both x and y are NOT np.nan\n",
    "    validIndices = np.intersect1d(\n",
    "        np.where(~np.isnan(x)),\n",
    "        np.where(~np.isnan(y)))\n",
    "    return len(validIndices)\n",
    "\n",
    "\n",
    "def plotTargetCorrelation(correlations, feature, out=None):\n",
    "    \"\"\" Plot correlations relative to feature \"\"\"\n",
    "    targetCorr = (\n",
    "        correlations.loc[correlations['feature1'] == feature]\n",
    "        .set_index('feature2'))\n",
    "    targetCorr = targetCorr.sort_values(by=['p'], ascending=True)\n",
    "    fig, (ax1, ax2) = plt.subplots(1, 2)\n",
    "    targetCorr = targetCorr.loc[targetCorr.index != targetCorr['feature1']]\n",
    "    sns.heatmap(pd.DataFrame(targetCorr['R']), yticklabels=1, cmap='bwr',\n",
    "                norm=TwoSlopeNorm(vmin=-1, vcenter=0, vmax=1), ax=ax1)\n",
    "    ax1.set_xlabel('')\n",
    "    ax1.set_ylabel('')\n",
    "    ax1.tick_params(left=True)\n",
    "    sns.heatmap(pd.DataFrame(targetCorr['p']), yticklabels=1,\n",
    "                cmap='viridis_r', norm=LogNorm(vmax=1), ax=ax2)\n",
    "    ax2.tick_params(left=True)\n",
    "    ax2.set_ylabel('')\n",
    "    fig.tight_layout()\n",
    "    if out is not None:\n",
    "        fig.savefig(out)\n",
    "    return fig, (ax1, ax2)\n",
    "\n",
    "\n",
    "def plotPairwiseCorrelation(correlations, out=None):\n",
    "    \"\"\" Plot pairwise correlation matrix with\n",
    "        output from computeCorrelation() \"\"\"\n",
    "    wideCorr = correlations.pivot(\n",
    "        columns='feature1', index='feature2', values='R')\n",
    "    fig, ax = plt.subplots()\n",
    "    sns.heatmap(wideCorr, yticklabels=1, cmap='bwr', square=True,\n",
    "                norm=TwoSlopeNorm(vmin=-1, vcenter=0, vmax=1), ax=ax)\n",
    "    ax.set_xlabel('')\n",
    "    ax.set_ylabel('')\n",
    "    ax.set_facecolor('lightgrey')\n",
    "    ax.tick_params(left=True)\n",
    "    fig.tight_layout()\n",
    "    if out is not None:\n",
    "        fig.savefig(out)\n",
    "    return fig, ax\n"
   ]
  },
  {
   "cell_type": "code",
   "execution_count": null,
   "metadata": {},
   "outputs": [],
   "source": [
    "sns.set_theme(style=\"whitegrid\")\n",
    "plt.rcParams[\"figure.figsize\"] = (12,8)\n",
    "warnings.filterwarnings('ignore')"
   ]
  },
  {
   "cell_type": "code",
   "execution_count": null,
   "metadata": {},
   "outputs": [],
   "source": [
    "train = 'train.csv'\n",
    "test = 'test.csv'\n",
    "index = 'PassengerId'\n",
    "target = 'Survived'"
   ]
  },
  {
   "cell_type": "code",
   "execution_count": null,
   "metadata": {},
   "outputs": [],
   "source": [
    "dtypes = ({\n",
    "    'Survived': bool, \n",
    "    'Pclass':   int, \n",
    "    'Name':     str,\n",
    "    'Sex':      'category',\n",
    "    'Age':      float,\n",
    "    'SibSp':    int,\n",
    "    'Parch':    int,\n",
    "    'Ticket':  'category',\n",
    "    'Fare':     float,\n",
    "    'Cabin':   'category',\n",
    "    'Embarked':'category'\n",
    "})\n",
    "X = pd.read_csv(train, index_col=index, dtype=dtypes)\n",
    "y = X['Survived']"
   ]
  },
  {
   "cell_type": "code",
   "execution_count": null,
   "metadata": {},
   "outputs": [],
   "source": [
    "# Perform ordinal encoding here if necessary, "
   ]
  },
  {
   "cell_type": "code",
   "execution_count": null,
   "metadata": {},
   "outputs": [],
   "source": [
    "allCorrelations = computeCorrelation(X)"
   ]
  },
  {
   "cell_type": "code",
   "execution_count": null,
   "metadata": {},
   "outputs": [],
   "source": [
    "fig, ax = plotPairwiseCorrelation(allCorrelations)"
   ]
  },
  {
   "cell_type": "code",
   "execution_count": null,
   "metadata": {},
   "outputs": [],
   "source": [
    "missingVals = showMissing(X)\n",
    "print(missingVals)"
   ]
  },
  {
   "cell_type": "code",
   "execution_count": null,
   "metadata": {},
   "outputs": [],
   "source": [
    "plotTargetCorrelation(allCorrelations, 'Age')"
   ]
  },
  {
   "cell_type": "code",
   "execution_count": null,
   "metadata": {},
   "outputs": [],
   "source": [
    "reference = 'Age'\n",
    "validFeatures = X.select_dtypes(exclude=['float', 'int']).columns\n",
    "for feature in validFeatures:\n",
    "    if feature == reference:\n",
    "        continue\n",
    "    grouping = [group[reference].dropna().values for _, group in X.groupby(feature)]\n",
    "    H, p = stats.kruskal(*grouping)\n",
    "    if not np.isnan(H):\n",
    "        print(feature, H, p)"
   ]
  },
  {
   "cell_type": "markdown",
   "metadata": {},
   "source": [
    " https://medium.com/analytics-vidhya/scikit-learn-pipelines-with-custom-transformer-a-step-by-step-guide-9b9b886fd2cc\n",
    "        https://stackoverflow.com/questions/48320396/create-a-custom-sklearn-transformermixin-that-transforms-categorical-variables-c"
   ]
  },
  {
   "cell_type": "code",
   "execution_count": null,
   "metadata": {},
   "outputs": [],
   "source": [
    "import numpy as np\n",
    "import pandas as pd\n",
    "import seaborn as sns\n",
    "import matplotlib.pyplot as plt\n",
    "from sklearn.model_selection import train_test_split\n",
    "from sklearn.compose import ColumnTransformer\n",
    "from sklearn.datasets import fetch_openml\n",
    "from sklearn.pipeline import Pipeline\n",
    "from sklearn.impute import SimpleImputer\n",
    "from sklearn.preprocessing import StandardScaler, OneHotEncoder, RobustScaler, PowerTransformer\n",
    "from sklearn.linear_model import LogisticRegression, Lasso, RidgeCV, ElasticNet\n",
    "from sklearn.model_selection import train_test_split, GridSearchCV\n",
    "from sklearn.compose import make_column_selector as selector\n",
    "from sklearn.metrics import mean_absolute_error, mean_squared_error\n",
    "from sklearn.ensemble import RandomForestRegressor\n",
    "from sklearn import set_config\n",
    "from xgboost import XGBRegressor\n",
    "from sklearn.compose import TransformedTargetRegressor\n",
    "from sklearn.model_selection import KFold\n",
    "from sklearn.preprocessing import FunctionTransformer\n",
    "from sklearn.preprocessing import OrdinalEncoder\n",
    "from sklearn.model_selection import ParameterGrid\n",
    "from sklearn.feature_selection import SelectKBest, chi2, SelectFromModel\n",
    "from sklearn.tree import DecisionTreeClassifier\n",
    "from sklearn.ensemble import StackingRegressor\n",
    "from sklearn.svm import SVR\n",
    "from sklearn.metrics import make_scorer\n",
    "from sklearn.kernel_ridge import KernelRidge\n",
    "from skopt import BayesSearchCV\n",
    "from skopt.space import Real, Categorical, Integer"
   ]
  },
  {
   "cell_type": "code",
   "execution_count": null,
   "metadata": {},
   "outputs": [],
   "source": [
    "set_config(display='diagram')\n",
    "sns.set_theme(style=\"whitegrid\")\n",
    "plt.rcParams[\"figure.figsize\"] = (12,8)"
   ]
  },
  {
   "cell_type": "code",
   "execution_count": null,
   "metadata": {},
   "outputs": [],
   "source": [
    "class GroupImputer(BaseEstimator, TransformerMixin):\n",
    "    \"\"\" Extension of SimpleImputer to impute values by group \"\"\"\n",
    "    \n",
    "    def __init__(self, variable, by, strategy='median'): \n",
    "        self.variable = variable\n",
    "        self.by = by\n",
    "        if strategy == 'most_frequent':\n",
    "            self.strategy = lambda x: x.mode().sample(1)\n",
    "        else:\n",
    "            self.strategy = strategy\n",
    "\n",
    "    def fit(self, X, y=None):\n",
    "        self.map = X.groupby(self.by)[self.variable].agg(self.strategy)\n",
    "        return self\n",
    "\n",
    "    def transform(self, X, y=None):\n",
    "        X = X.copy()\n",
    "        fillValues = X[self.by].apply(tuple, axis=1).map(self.map)\n",
    "        X[self.variable] = X[self.variable].fillna(fillValues)\n",
    "        return X"
   ]
  },
  {
   "cell_type": "code",
   "execution_count": null,
   "metadata": {},
   "outputs": [],
   "source": [
    "class FeatureEngineer(BaseEstimator, TransformerMixin):\n",
    "    \"\"\" Engineer custom features \"\"\"\n",
    "\n",
    "    def fit(self, X, y=None):\n",
    "        return self\n",
    "\n",
    "    def transform(self, X, y=None):\n",
    "        X['Relatives'] = X['SibSp'] + X['Parch']\n",
    "        return X"
   ]
  },
  {
   "cell_type": "code",
   "execution_count": null,
   "metadata": {},
   "outputs": [],
   "source": [
    "PclassTransformer = Pipeline(steps=[\n",
    "    ('imputer', SimpleImputer(strategy='most_frequent'))\n",
    "])\n",
    "SexTransformer = Pipeline(steps=[\n",
    "    ('imputer', SimpleImputer(strategy='most_frequent')),\n",
    "    ('onehot' , OneHotEncoder(handle_unknown='ignore'))\n",
    "])\n",
    "AssocTransformer = Pipeline(steps=[\n",
    "    ('imputer', SimpleImputer(strategy='most_frequent')),\n",
    "])\n",
    "FareTransformer = Pipeline(steps=[\n",
    "    ('imputer', SimpleImputer(strategy='median')),\n",
    "    ('scaler',  RobustScaler()),\n",
    "    ('power',   PowerTransformer(method='yeo-johnson'))\n",
    "])"
   ]
  },
  {
   "cell_type": "code",
   "execution_count": null,
   "metadata": {},
   "outputs": [],
   "source": [
    "transformers = ([\n",
    "    ('Pclass', PclassTransformer, ['Pclass']),\n",
    "    ('Sex', SexTransformer, ['Sex', 'Cabin']),\n",
    "    ('Associates', AssocTransformer, ['Relatives']),\n",
    "    ('Fare', FareTransformer, ['Fare']),\n",
    "])\n",
    "preprocessor = ColumnTransformer(transformers=transformers, remainder='drop')"
   ]
  },
  {
   "cell_type": "code",
   "execution_count": null,
   "metadata": {},
   "outputs": [],
   "source": [
    "pipeline = Pipeline(steps=[\n",
    "    ('engineer', FeatureEngineer()),\n",
    "    ('ageImputer', GroupImputer('Age', by=['Pclass', 'Sex'], strategy='median')),\n",
    "    ('preprocessor', preprocessor),\n",
    "    ('classifier',   LogisticRegression(random_state=0))\n",
    "])"
   ]
  },
  {
   "cell_type": "code",
   "execution_count": null,
   "metadata": {},
   "outputs": [],
   "source": [
    "split = train_test_split(X, y, random_state=0, train_size=0.8, test_size=0.2)\n",
    "X_train, X_valid, y_train, y_valid = map(lambda x: x.copy(), split)"
   ]
  },
  {
   "cell_type": "code",
   "execution_count": null,
   "metadata": {},
   "outputs": [],
   "source": [
    "pipeline.fit(X_train, y_train)"
   ]
  },
  {
   "cell_type": "code",
   "execution_count": null,
   "metadata": {},
   "outputs": [],
   "source": [
    "pipeline.score(X_valid, y_valid)"
   ]
  },
  {
   "cell_type": "code",
   "execution_count": null,
   "metadata": {},
   "outputs": [],
   "source": [
    "pipeline.score(X_valid, y_valid)"
   ]
  },
  {
   "cell_type": "code",
   "execution_count": null,
   "metadata": {},
   "outputs": [],
   "source": [
    "# Define custom score based on Kaggle competition\n",
    "def kaggleLoss(y_true, y_pred):\n",
    "    return mean_squared_error(np.log(y_true), np.log(y_pred), squared=False)\n",
    "kaggleScore = make_scorer(kaggleLoss, greater_is_better=False)"
   ]
  },
  {
   "cell_type": "code",
   "execution_count": null,
   "metadata": {},
   "outputs": [],
   "source": [
    "predictions = pipeline.predict(X_valid)\n",
    "score = kaggleLoss(y_valid, predictions)\n",
    "fig, ax = plt.subplots()\n",
    "ax.plot([y_valid.min(), y_valid.max()],\n",
    "        [y_valid.min(), y_valid.max()],\n",
    "        '--r', linewidth=2, alpha=0.75)\n",
    "sns.scatterplot(x=y_valid, y=predictions, ax=ax)\n",
    "ax.set_xlabel('Measured')\n",
    "ax.set_ylabel('Predicted')\n",
    "ax.set_title(f'{name} (score = {score:.4f})', loc='left')\n",
    "fig.tight_layout()"
   ]
  },
  {
   "cell_type": "code",
   "execution_count": null,
   "metadata": {},
   "outputs": [],
   "source": [
    "predictions - y_train"
   ]
  },
  {
   "cell_type": "code",
   "execution_count": null,
   "metadata": {},
   "outputs": [],
   "source": [
    "X"
   ]
  },
  {
   "cell_type": "code",
   "execution_count": null,
   "metadata": {},
   "outputs": [],
   "source": []
  }
 ],
 "metadata": {
  "kernelspec": {
   "display_name": "Python 3",
   "language": "python",
   "name": "python3"
  },
  "language_info": {
   "codemirror_mode": {
    "name": "ipython",
    "version": 3
   },
   "file_extension": ".py",
   "mimetype": "text/x-python",
   "name": "python",
   "nbconvert_exporter": "python",
   "pygments_lexer": "ipython3",
   "version": "3.7.3"
  }
 },
 "nbformat": 4,
 "nbformat_minor": 4
}
