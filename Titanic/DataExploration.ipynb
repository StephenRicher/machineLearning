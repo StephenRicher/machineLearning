{
 "cells": [
  {
   "cell_type": "code",
   "execution_count": 191,
   "metadata": {},
   "outputs": [],
   "source": [
    "import os\n",
    "import re\n",
    "import warnings\n",
    "import numpy as np\n",
    "import pandas as pd\n",
    "import seaborn as sns\n",
    "from scipy import stats\n",
    "from scipy import linalg\n",
    "import matplotlib.pyplot as plt\n",
    "from scipy.stats import kendalltau\n",
    "from sklearn.covariance import MinCovDet\n",
    "from pandas.api.types import is_numeric_dtype, is_bool_dtype\n",
    "from matplotlib.colors import TwoSlopeNorm, LogNorm\n",
    "from sklearn.base import BaseEstimator, TransformerMixin"
   ]
  },
  {
   "cell_type": "code",
   "execution_count": 192,
   "metadata": {},
   "outputs": [],
   "source": [
    "def showMissing(df):\n",
    "    \"\"\" Show features with missing values \"\"\"\n",
    "    nullOrd = df.isnull().sum().sort_values(ascending=False)\n",
    "    nullOrd = nullOrd[nullOrd > 0]\n",
    "    nullOrd = pd.DataFrame(nullOrd, columns=['TotalNA'])\n",
    "    nullOrd['PropNA'] = nullOrd['TotalNA'] / len(X)\n",
    "    return nullOrd\n",
    "\n",
    "\n",
    "def computeCorrelation(df, p=0.05):\n",
    "    \"\"\" Compute pairwise correlation, p-value and pair counts \"\"\"\n",
    "    correlations = []\n",
    "    for method in ['kendall', kendalltaur_pval, countPair]:\n",
    "        values = df.corr(method=method).stack()\n",
    "        correlations.append(values)\n",
    "    correlations = (\n",
    "        pd.concat(correlations, axis=1)\n",
    "        .reset_index()\n",
    "        .rename(columns={'level_0': 'feature1',\n",
    "                         'level_1': 'feature2',\n",
    "                         0: 'R', 1: 'p', 2: 'n'}))\n",
    "    correlations['significant'] = correlations['p'] < p\n",
    "    correlations = correlations[correlations['feature1'] != correlations['feature2']]\n",
    "    return correlations\n",
    "\n",
    "\n",
    "def kendalltaur_pval(x,y):\n",
    "    try:\n",
    "        return kendalltau(x,y)[1]\n",
    "    except ValueError:\n",
    "        return np.nan\n",
    "\n",
    "\n",
    "def countPair(x, y):\n",
    "    \"\"\" Return count of valid pairs (both not nan) \"\"\"\n",
    "\n",
    "    # Indices where both x and y are NOT np.nan\n",
    "    validIndices = np.intersect1d(\n",
    "        np.where(~np.isnan(x)),\n",
    "        np.where(~np.isnan(y)))\n",
    "    return len(validIndices)\n",
    "\n",
    "\n",
    "def plotTargetCorrelation(correlations, feature, out=None):\n",
    "    \"\"\" Plot correlations relative to feature \"\"\"\n",
    "    targetCorr = (\n",
    "        correlations.loc[correlations['feature1'] == feature]\n",
    "        .set_index('feature2'))\n",
    "    targetCorr = targetCorr.sort_values(by=['p'], ascending=True)\n",
    "    fig, (ax1, ax2) = plt.subplots(1, 2)\n",
    "    targetCorr = targetCorr.loc[targetCorr.index != targetCorr['feature1']]\n",
    "    sns.heatmap(pd.DataFrame(targetCorr['R']), yticklabels=1, cmap='bwr',\n",
    "                norm=TwoSlopeNorm(vmin=-1, vcenter=0, vmax=1), ax=ax1)\n",
    "    ax1.set_xlabel('')\n",
    "    ax1.set_ylabel('')\n",
    "    ax1.tick_params(left=True)\n",
    "    sns.heatmap(pd.DataFrame(targetCorr['p']), yticklabels=1,\n",
    "                cmap='viridis_r', norm=LogNorm(vmax=1), ax=ax2)\n",
    "    ax2.tick_params(left=True)\n",
    "    ax2.set_ylabel('')\n",
    "    fig.tight_layout()\n",
    "    if out is not None:\n",
    "        fig.savefig(out)\n",
    "    return fig, (ax1, ax2)\n",
    "\n",
    "\n",
    "def plotPairwiseCorrelation(correlations, out=None):\n",
    "    \"\"\" Plot pairwise correlation matrix with\n",
    "        output from computeCorrelation() \"\"\"\n",
    "    wideCorr = correlations.pivot(\n",
    "        columns='feature1', index='feature2', values='R')\n",
    "    fig, ax = plt.subplots()\n",
    "    sns.heatmap(wideCorr, yticklabels=1, cmap='bwr', square=True,\n",
    "                norm=TwoSlopeNorm(vmin=-1, vcenter=0, vmax=1), ax=ax)\n",
    "    ax.set_xlabel('')\n",
    "    ax.set_ylabel('')\n",
    "    ax.set_facecolor('lightgrey')\n",
    "    ax.tick_params(left=True)\n",
    "    fig.tight_layout()\n",
    "    if out is not None:\n",
    "        fig.savefig(out)\n",
    "    return fig, ax\n"
   ]
  },
  {
   "cell_type": "code",
   "execution_count": 193,
   "metadata": {},
   "outputs": [],
   "source": [
    "sns.set_theme(style=\"whitegrid\")\n",
    "plt.rcParams[\"figure.figsize\"] = (12,8)\n",
    "warnings.filterwarnings('ignore')"
   ]
  },
  {
   "cell_type": "code",
   "execution_count": 194,
   "metadata": {},
   "outputs": [],
   "source": [
    "train = 'train.csv'\n",
    "test = 'test.csv'\n",
    "index = 'PassengerId'\n",
    "target = 'Survived'"
   ]
  },
  {
   "cell_type": "code",
   "execution_count": 636,
   "metadata": {},
   "outputs": [],
   "source": [
    "dtypes = ({\n",
    "    'Survived': bool, \n",
    "    'Pclass':   int, \n",
    "    'Name':     str,\n",
    "    'Sex':      'category',\n",
    "    'Age':      float,\n",
    "    'SibSp':    int,\n",
    "    'Parch':    int,\n",
    "    'Ticket':  'category',\n",
    "    'Fare':     float,\n",
    "    'Cabin':   'category',\n",
    "    'Embarked':'category'\n",
    "})\n",
    "X = pd.read_csv(train, index_col=index, dtype=dtypes)"
   ]
  },
  {
   "cell_type": "code",
   "execution_count": 196,
   "metadata": {},
   "outputs": [],
   "source": [
    "# Perform ordinal encoding here if necessary, "
   ]
  },
  {
   "cell_type": "code",
   "execution_count": 197,
   "metadata": {},
   "outputs": [],
   "source": [
    "allCorrelations = computeCorrelation(X)"
   ]
  },
  {
   "cell_type": "code",
   "execution_count": 198,
   "metadata": {},
   "outputs": [
    {
     "data": {
      "image/png": "[encoded data removed]",
      "text/plain": [
       "<Figure size 864x576 with 2 Axes>"
      ]
     },
     "metadata": {},
     "output_type": "display_data"
    }
   ],
   "source": [
    "fig, ax = plotPairwiseCorrelation(allCorrelations)"
   ]
  },
  {
   "cell_type": "code",
   "execution_count": 199,
   "metadata": {},
   "outputs": [
    {
     "name": "stdout",
     "output_type": "stream",
     "text": [
      "          TotalNA    PropNA\n",
      "Cabin         687  0.771044\n",
      "Age           177  0.198653\n",
      "Embarked        2  0.002245\n"
     ]
    }
   ],
   "source": [
    "missingVals = showMissing(X)\n",
    "print(missingVals)"
   ]
  },
  {
   "cell_type": "code",
   "execution_count": 200,
   "metadata": {},
   "outputs": [
    {
     "data": {
      "text/plain": [
       "(<Figure size 864x576 with 4 Axes>, (<AxesSubplot:>, <AxesSubplot:>))"
      ]
     },
     "execution_count": 200,
     "metadata": {},
     "output_type": "execute_result"
    },
    {
     "data": {
      "image/png": "[encoded data removed]",
      "text/plain": [
       "<Figure size 864x576 with 4 Axes>"
      ]
     },
     "metadata": {},
     "output_type": "display_data"
    }
   ],
   "source": [
    "plotTargetCorrelation(allCorrelations, 'Age')"
   ]
  },
  {
   "cell_type": "code",
   "execution_count": 201,
   "metadata": {},
   "outputs": [
    {
     "name": "stdout",
     "output_type": "stream",
     "text": [
      "Survived 1.970097978146391 0.16043746252207006\n",
      "Sex 4.951032159109385 0.02607509661801354\n",
      "Embarked 1.2484133404393043 0.5356862358343728\n"
     ]
    }
   ],
   "source": [
    "reference = 'Age'\n",
    "validFeatures = X.select_dtypes(exclude=['float', 'int']).columns\n",
    "for feature in validFeatures:\n",
    "    if feature == reference:\n",
    "        continue\n",
    "    grouping = [group[reference].dropna().values for _, group in X.groupby(feature)]\n",
    "    H, p = stats.kruskal(*grouping)\n",
    "    if not np.isnan(H):\n",
    "        print(feature, H, p)"
   ]
  },
  {
   "cell_type": "markdown",
   "metadata": {},
   "source": [
    " https://medium.com/analytics-vidhya/scikit-learn-pipelines-with-custom-transformer-a-step-by-step-guide-9b9b886fd2cc\n",
    "        https://stackoverflow.com/questions/48320396/create-a-custom-sklearn-transformermixin-that-transforms-categorical-variables-c"
   ]
  },
  {
   "cell_type": "code",
   "execution_count": 727,
   "metadata": {},
   "outputs": [],
   "source": [
    "import numpy as np\n",
    "import pandas as pd\n",
    "import seaborn as sns\n",
    "import matplotlib.pyplot as plt\n",
    "from sklearn.model_selection import train_test_split\n",
    "from sklearn.compose import ColumnTransformer\n",
    "from sklearn.datasets import fetch_openml\n",
    "from sklearn.pipeline import Pipeline, FeatureUnion\n",
    "from sklearn.impute import SimpleImputer\n",
    "from sklearn.preprocessing import StandardScaler, OneHotEncoder, RobustScaler, PowerTransformer\n",
    "from sklearn.linear_model import LogisticRegression, Lasso, RidgeCV, ElasticNet\n",
    "from sklearn.model_selection import train_test_split, GridSearchCV\n",
    "from sklearn.compose import make_column_selector as selector\n",
    "from sklearn.metrics import mean_absolute_error, mean_squared_error\n",
    "from sklearn.ensemble import RandomForestRegressor, GradientBoostingClassifier\n",
    "from sklearn import set_config\n",
    "from xgboost import XGBRegressor\n",
    "from sklearn.compose import TransformedTargetRegressor\n",
    "from sklearn.model_selection import KFold\n",
    "from sklearn.preprocessing import FunctionTransformer\n",
    "from sklearn.preprocessing import OrdinalEncoder\n",
    "from sklearn.model_selection import ParameterGrid\n",
    "from sklearn.feature_selection import SelectKBest, chi2, SelectFromModel\n",
    "from sklearn.tree import DecisionTreeClassifier\n",
    "from sklearn.ensemble import StackingRegressor\n",
    "from sklearn.svm import SVR\n",
    "from sklearn.metrics import make_scorer\n",
    "from sklearn.kernel_ridge import KernelRidge\n",
    "from skopt import BayesSearchCV\n",
    "from skopt.space import Real, Categorical, Integer"
   ]
  },
  {
   "cell_type": "code",
   "execution_count": 204,
   "metadata": {},
   "outputs": [],
   "source": [
    "set_config(display='diagram')\n",
    "sns.set_theme(style=\"whitegrid\")\n",
    "plt.rcParams[\"figure.figsize\"] = (12,8)"
   ]
  },
  {
   "cell_type": "code",
   "execution_count": 205,
   "metadata": {},
   "outputs": [],
   "source": [
    "class GroupImputer(BaseEstimator, TransformerMixin):\n",
    "    \"\"\" Extension of SimpleImputer to impute values by group \"\"\"\n",
    "    \n",
    "    def __init__(self, variable, by, strategy='median'): \n",
    "        self.variable = variable\n",
    "        self.by = by\n",
    "        if strategy == 'most_frequent':\n",
    "            self.strategy = lambda x: x.mode().sample(1)\n",
    "        else:\n",
    "            self.strategy = strategy\n",
    "\n",
    "    def fit(self, X, y=None):\n",
    "        self.map = X.groupby(self.by)[self.variable].agg(self.strategy)\n",
    "        return self\n",
    "\n",
    "    def transform(self, X, y=None):\n",
    "        X = X.copy()\n",
    "        fillValues = X[self.by].apply(tuple, axis=1).map(self.map)\n",
    "        X[self.variable] = X[self.variable].fillna(fillValues)\n",
    "        return X"
   ]
  },
  {
   "cell_type": "code",
   "execution_count": 216,
   "metadata": {},
   "outputs": [],
   "source": [
    "class FeatureEngineer(BaseEstimator, TransformerMixin):\n",
    "    \"\"\" Engineer custom features \"\"\"\n",
    "\n",
    "    def fit(self, X, y=None):\n",
    "        return self\n",
    "\n",
    "    \n",
    "    def transform(self, X, y=None):\n",
    "        X = X.copy()\n",
    "        X['Relatives'] = X['SibSp'] + X['Parch']\n",
    "        X['Title'] = X['Name'].apply(lambda x: re.split(',|\\.', x)[1].strip())\n",
    "        X['Title'] = X['Title'].map(self._titles())\n",
    "        return X\n",
    "    \n",
    "    \n",
    "    def _titles(self):\n",
    "        return {\n",
    "            \"Capt\":       \"Officer\",\n",
    "            \"Col\":        \"Officer\",\n",
    "            \"Major\":      \"Officer\",\n",
    "            \"Jonkheer\":   \"Royalty\",\n",
    "            \"Don\":        \"Royalty\",\n",
    "            \"Sir\" :       \"Royalty\",\n",
    "            \"Dr\":         \"Officer\",\n",
    "            \"Rev\":        \"Officer\",\n",
    "            \"the Countess\":\"Royalty\",\n",
    "            \"Dona\":       \"Royalty\",\n",
    "            \"Mme\":        \"Mrs\",\n",
    "            \"Mlle\":       \"Miss\",\n",
    "            \"Ms\":         \"Mrs\",\n",
    "            \"Mr\" :        \"Mr\",\n",
    "            \"Mrs\" :       \"Mrs\",\n",
    "            \"Miss\" :      \"Miss\",\n",
    "            \"Master\" :    \"Master\",\n",
    "            \"Lady\" :      \"Royalty\"}"
   ]
  },
  {
   "cell_type": "code",
   "execution_count": 217,
   "metadata": {},
   "outputs": [],
   "source": [
    "class NoTransformer(BaseEstimator, TransformerMixin):\n",
    "    \"\"\" Dummy transformer \"\"\"\n",
    "    \n",
    "    def fit(self, X, y=None):\n",
    "        return self\n",
    "    \n",
    "    def transform(self, X, y=None):\n",
    "        return X"
   ]
  },
  {
   "cell_type": "code",
   "execution_count": 585,
   "metadata": {},
   "outputs": [],
   "source": [
    "CountTransformer = Pipeline(steps=[\n",
    "    ('imputer', SimpleImputer(strategy='most_frequent'))\n",
    "])\n",
    "CatTransformer = Pipeline(steps=[\n",
    "    ('imputer', SimpleImputer(strategy='most_frequent')),\n",
    "    ('onehot' , OneHotEncoder(handle_unknown='ignore')),\n",
    "])\n",
    "FareTransformer = Pipeline(steps=[\n",
    "    ('imputer', SimpleImputer(strategy='median')),\n",
    "    ('scaler',  RobustScaler()),\n",
    "    ('power',   PowerTransformer(method='yeo-johnson'))\n",
    "])"
   ]
  },
  {
   "cell_type": "code",
   "execution_count": 704,
   "metadata": {},
   "outputs": [],
   "source": [
    "transformers = ([\n",
    "    ('Count',  CountTransformer,  ['Pclass', 'Relatives']),\n",
    "    ('Cat',    CatTransformer,    ['Sex', 'Embarked']),\n",
    "    ('Fare',   FareTransformer,   ['Fare']),\n",
    "    ('None',   NoTransformer(),   ['Age']),\n",
    "])\n",
    "preprocessor = ColumnTransformer(transformers=transformers, remainder='drop')"
   ]
  },
  {
   "cell_type": "code",
   "execution_count": 728,
   "metadata": {},
   "outputs": [],
   "source": [
    "# Define a preModel pipeline distinct from modelling step\n",
    "preModel = Pipeline(steps=[\n",
    "    ('engineer', FeatureEngineer()),\n",
    "    ('ageImputer',      GroupImputer('Age', by=['Title', 'Sex'], strategy='median')),\n",
    "    ('columnTransform', preprocessor),\n",
    "])\n",
    "# Create total workflow pipeline\n",
    "pipeline = Pipeline(steps=[\n",
    "    ('preModel', preModel),\n",
    "    ('model',    GradientBoostingClassifier(random_state=0))\n",
    "])"
   ]
  },
  {
   "cell_type": "code",
   "execution_count": 729,
   "metadata": {},
   "outputs": [],
   "source": [
    "X = pd.read_csv(train, index_col=index, dtype=dtypes)\n",
    "y = X.pop(target)\n",
    "\n",
    "split = train_test_split(X, y, random_state=0, train_size=0.8, test_size=0.2)\n",
    "X_train, X_valid, y_train, y_valid = map(lambda x: x.copy(), split)"
   ]
  },
  {
   "cell_type": "code",
   "execution_count": 730,
   "metadata": {},
   "outputs": [],
   "source": [
    "# Configure the cross-validation procedure\n",
    "cv = KFold(n_splits=5, shuffle=True, random_state=1)\n",
    "nJobs = -1\n",
    "params =(\n",
    "    {'model__C': Real(1e-6, 100, prior='log-uniform')}\n",
    ")\n",
    "\n",
    "params =(\n",
    "    {'model__learning_rate': Real(1e-6, 1, prior='log-uniform')}\n",
    ")"
   ]
  },
  {
   "cell_type": "code",
   "execution_count": 731,
   "metadata": {},
   "outputs": [
    {
     "data": {
      "text/html": [
       "<style>div.sk-top-container {color: black;background-color: white;}div.sk-toggleable {background-color: white;}label.sk-toggleable__label {cursor: pointer;display: block;width: 100%;margin-bottom: 0;padding: 0.2em 0.3em;box-sizing: border-box;text-align: center;}div.sk-toggleable__content {max-height: 0;max-width: 0;overflow: hidden;text-align: left;background-color: #f0f8ff;}div.sk-toggleable__content pre {margin: 0.2em;color: black;border-radius: 0.25em;background-color: #f0f8ff;}input.sk-toggleable__control:checked~div.sk-toggleable__content {max-height: 200px;max-width: 100%;overflow: auto;}div.sk-estimator input.sk-toggleable__control:checked~label.sk-toggleable__label {background-color: #d4ebff;}div.sk-label input.sk-toggleable__control:checked~label.sk-toggleable__label {background-color: #d4ebff;}input.sk-hidden--visually {border: 0;clip: rect(1px 1px 1px 1px);clip: rect(1px, 1px, 1px, 1px);height: 1px;margin: -1px;overflow: hidden;padding: 0;position: absolute;width: 1px;}div.sk-estimator {font-family: monospace;background-color: #f0f8ff;margin: 0.25em 0.25em;border: 1px dotted black;border-radius: 0.25em;box-sizing: border-box;}div.sk-estimator:hover {background-color: #d4ebff;}div.sk-parallel-item::after {content: \"\";width: 100%;border-bottom: 1px solid gray;flex-grow: 1;}div.sk-label:hover label.sk-toggleable__label {background-color: #d4ebff;}div.sk-serial::before {content: \"\";position: absolute;border-left: 1px solid gray;box-sizing: border-box;top: 2em;bottom: 0;left: 50%;}div.sk-serial {display: flex;flex-direction: column;align-items: center;background-color: white;}div.sk-item {z-index: 1;}div.sk-parallel {display: flex;align-items: stretch;justify-content: center;background-color: white;}div.sk-parallel-item {display: flex;flex-direction: column;position: relative;background-color: white;}div.sk-parallel-item:first-child::after {align-self: flex-end;width: 50%;}div.sk-parallel-item:last-child::after {align-self: flex-start;width: 50%;}div.sk-parallel-item:only-child::after {width: 0;}div.sk-dashed-wrapped {border: 1px dashed gray;margin: 0.2em;box-sizing: border-box;padding-bottom: 0.1em;background-color: white;position: relative;}div.sk-label label {font-family: monospace;font-weight: bold;background-color: white;display: inline-block;line-height: 1.2em;}div.sk-label-container {position: relative;z-index: 2;text-align: center;}div.sk-container {display: inline-block;position: relative;}</style><div class=\"sk-top-container\"><div class=\"sk-container\"><div class=\"sk-item sk-dashed-wrapped\"><div class=\"sk-label-container\"><div class=\"sk-label sk-toggleable\"><input class=\"sk-toggleable__control sk-hidden--visually\" id=\"a255653b-3e67-4f2c-b729-3c0e70a7039e\" type=\"checkbox\" ><label class=\"sk-toggleable__label\" for=\"a255653b-3e67-4f2c-b729-3c0e70a7039e\">BayesSearchCV</label><div class=\"sk-toggleable__content\"><pre>BayesSearchCV(cv=KFold(n_splits=5, random_state=1, shuffle=True),\n",
       "              estimator=Pipeline(steps=[('preModel',\n",
       "                                         Pipeline(steps=[('engineer',\n",
       "                                                          FeatureEngineer()),\n",
       "                                                         ('ageImputer',\n",
       "                                                          GroupImputer(by=['Title',\n",
       "                                                                           'Sex'],\n",
       "                                                                       variable='Age')),\n",
       "                                                         ('columnTransform',\n",
       "                                                          ColumnTransformer(transformers=[('Count',\n",
       "                                                                                           Pipeline(steps=[('imputer',\n",
       "                                                                                                            SimpleImputer(strategy='most_frequent'))]),\n",
       "                                                                                           ['Pclass'...\n",
       "                                                                                           Pipeline(steps=[('imputer',\n",
       "                                                                                                            SimpleImputer(strategy='median')),\n",
       "                                                                                                           ('scaler',\n",
       "                                                                                                            RobustScaler()),\n",
       "                                                                                                           ('power',\n",
       "                                                                                                            PowerTransformer())]),\n",
       "                                                                                           ['Fare']),\n",
       "                                                                                          ('None',\n",
       "                                                                                           NoTransformer(),\n",
       "                                                                                           ['Age'])]))])),\n",
       "                                        ('model',\n",
       "                                         GradientBoostingClassifier(random_state=0))]),\n",
       "              n_jobs=-1, scoring='accuracy',\n",
       "              search_spaces={'model__learning_rate': Real(low=1e-06, high=1, prior='log-uniform', transform='identity')})</pre></div></div></div><div class=\"sk-parallel\"><div class=\"sk-parallel-item\"><div class=\"sk-item\"><div class=\"sk-serial\"><div class=\"sk-item\"><div class=\"sk-serial\"><div class=\"sk-item\"><div class=\"sk-label-container\"><div class=\"sk-label sk-toggleable\"><input class=\"sk-toggleable__control sk-hidden--visually\" id=\"606e8b72-70e6-4215-bbeb-98fd7e408df7\" type=\"checkbox\" ><label class=\"sk-toggleable__label\" for=\"606e8b72-70e6-4215-bbeb-98fd7e408df7\">preModel: Pipeline</label><div class=\"sk-toggleable__content\"><pre>Pipeline(steps=[('engineer', FeatureEngineer()),\n",
       "                ('ageImputer',\n",
       "                 GroupImputer(by=['Title', 'Sex'], variable='Age')),\n",
       "                ('columnTransform',\n",
       "                 ColumnTransformer(transformers=[('Count',\n",
       "                                                  Pipeline(steps=[('imputer',\n",
       "                                                                   SimpleImputer(strategy='most_frequent'))]),\n",
       "                                                  ['Pclass', 'Relatives']),\n",
       "                                                 ('Cat',\n",
       "                                                  Pipeline(steps=[('imputer',\n",
       "                                                                   SimpleImputer(strategy='most_frequent')),\n",
       "                                                                  ('onehot',\n",
       "                                                                   OneHotEncoder(handle_unknown='ignore'))]),\n",
       "                                                  ['Sex', 'Embarked']),\n",
       "                                                 ('Fare',\n",
       "                                                  Pipeline(steps=[('imputer',\n",
       "                                                                   SimpleImputer(strategy='median')),\n",
       "                                                                  ('scaler',\n",
       "                                                                   RobustScaler()),\n",
       "                                                                  ('power',\n",
       "                                                                   PowerTransformer())]),\n",
       "                                                  ['Fare']),\n",
       "                                                 ('None', NoTransformer(),\n",
       "                                                  ['Age'])]))])</pre></div></div></div><div class=\"sk-serial\"><div class=\"sk-item\"><div class=\"sk-estimator sk-toggleable\"><input class=\"sk-toggleable__control sk-hidden--visually\" id=\"80f8c388-c7f3-4e2d-91e8-b72ee36e8fca\" type=\"checkbox\" ><label class=\"sk-toggleable__label\" for=\"80f8c388-c7f3-4e2d-91e8-b72ee36e8fca\">FeatureEngineer</label><div class=\"sk-toggleable__content\"><pre>FeatureEngineer()</pre></div></div></div><div class=\"sk-item\"><div class=\"sk-estimator sk-toggleable\"><input class=\"sk-toggleable__control sk-hidden--visually\" id=\"408fc4e5-95ef-4d50-a81a-954e28b0e933\" type=\"checkbox\" ><label class=\"sk-toggleable__label\" for=\"408fc4e5-95ef-4d50-a81a-954e28b0e933\">GroupImputer</label><div class=\"sk-toggleable__content\"><pre>GroupImputer(by=['Title', 'Sex'], variable='Age')</pre></div></div></div><div class=\"sk-item sk-dashed-wrapped\"><div class=\"sk-label-container\"><div class=\"sk-label sk-toggleable\"><input class=\"sk-toggleable__control sk-hidden--visually\" id=\"f4fd5461-864b-42b8-9f32-7a2ea0871a69\" type=\"checkbox\" ><label class=\"sk-toggleable__label\" for=\"f4fd5461-864b-42b8-9f32-7a2ea0871a69\">columnTransform: ColumnTransformer</label><div class=\"sk-toggleable__content\"><pre>ColumnTransformer(transformers=[('Count',\n",
       "                                 Pipeline(steps=[('imputer',\n",
       "                                                  SimpleImputer(strategy='most_frequent'))]),\n",
       "                                 ['Pclass', 'Relatives']),\n",
       "                                ('Cat',\n",
       "                                 Pipeline(steps=[('imputer',\n",
       "                                                  SimpleImputer(strategy='most_frequent')),\n",
       "                                                 ('onehot',\n",
       "                                                  OneHotEncoder(handle_unknown='ignore'))]),\n",
       "                                 ['Sex', 'Embarked']),\n",
       "                                ('Fare',\n",
       "                                 Pipeline(steps=[('imputer',\n",
       "                                                  SimpleImputer(strategy='median')),\n",
       "                                                 ('scaler', RobustScaler()),\n",
       "                                                 ('power',\n",
       "                                                  PowerTransformer())]),\n",
       "                                 ['Fare']),\n",
       "                                ('None', NoTransformer(), ['Age'])])</pre></div></div></div><div class=\"sk-parallel\"><div class=\"sk-parallel-item\"><div class=\"sk-item\"><div class=\"sk-label-container\"><div class=\"sk-label sk-toggleable\"><input class=\"sk-toggleable__control sk-hidden--visually\" id=\"458bfe90-0801-423e-bdc0-cdb713199d53\" type=\"checkbox\" ><label class=\"sk-toggleable__label\" for=\"458bfe90-0801-423e-bdc0-cdb713199d53\">Count</label><div class=\"sk-toggleable__content\"><pre>['Pclass', 'Relatives']</pre></div></div></div><div class=\"sk-serial\"><div class=\"sk-item\"><div class=\"sk-serial\"><div class=\"sk-item\"><div class=\"sk-estimator sk-toggleable\"><input class=\"sk-toggleable__control sk-hidden--visually\" id=\"a5e8f134-75b2-49b6-88c6-889fa330c821\" type=\"checkbox\" ><label class=\"sk-toggleable__label\" for=\"a5e8f134-75b2-49b6-88c6-889fa330c821\">SimpleImputer</label><div class=\"sk-toggleable__content\"><pre>SimpleImputer(strategy='most_frequent')</pre></div></div></div></div></div></div></div></div><div class=\"sk-parallel-item\"><div class=\"sk-item\"><div class=\"sk-label-container\"><div class=\"sk-label sk-toggleable\"><input class=\"sk-toggleable__control sk-hidden--visually\" id=\"692f5c72-54e8-493d-96d1-68946b668870\" type=\"checkbox\" ><label class=\"sk-toggleable__label\" for=\"692f5c72-54e8-493d-96d1-68946b668870\">Cat</label><div class=\"sk-toggleable__content\"><pre>['Sex', 'Embarked']</pre></div></div></div><div class=\"sk-serial\"><div class=\"sk-item\"><div class=\"sk-serial\"><div class=\"sk-item\"><div class=\"sk-estimator sk-toggleable\"><input class=\"sk-toggleable__control sk-hidden--visually\" id=\"ae17d83e-0f84-486c-9c15-a652f453fc50\" type=\"checkbox\" ><label class=\"sk-toggleable__label\" for=\"ae17d83e-0f84-486c-9c15-a652f453fc50\">SimpleImputer</label><div class=\"sk-toggleable__content\"><pre>SimpleImputer(strategy='most_frequent')</pre></div></div></div><div class=\"sk-item\"><div class=\"sk-estimator sk-toggleable\"><input class=\"sk-toggleable__control sk-hidden--visually\" id=\"0afb9014-b646-4436-8238-a226e9ab5f7f\" type=\"checkbox\" ><label class=\"sk-toggleable__label\" for=\"0afb9014-b646-4436-8238-a226e9ab5f7f\">OneHotEncoder</label><div class=\"sk-toggleable__content\"><pre>OneHotEncoder(handle_unknown='ignore')</pre></div></div></div></div></div></div></div></div><div class=\"sk-parallel-item\"><div class=\"sk-item\"><div class=\"sk-label-container\"><div class=\"sk-label sk-toggleable\"><input class=\"sk-toggleable__control sk-hidden--visually\" id=\"f6eb1e27-7f84-4be1-9e09-eeaa469a7d9c\" type=\"checkbox\" ><label class=\"sk-toggleable__label\" for=\"f6eb1e27-7f84-4be1-9e09-eeaa469a7d9c\">Fare</label><div class=\"sk-toggleable__content\"><pre>['Fare']</pre></div></div></div><div class=\"sk-serial\"><div class=\"sk-item\"><div class=\"sk-serial\"><div class=\"sk-item\"><div class=\"sk-estimator sk-toggleable\"><input class=\"sk-toggleable__control sk-hidden--visually\" id=\"9d8ac27d-3519-4a9c-8c55-3c3700919f3b\" type=\"checkbox\" ><label class=\"sk-toggleable__label\" for=\"9d8ac27d-3519-4a9c-8c55-3c3700919f3b\">SimpleImputer</label><div class=\"sk-toggleable__content\"><pre>SimpleImputer(strategy='median')</pre></div></div></div><div class=\"sk-item\"><div class=\"sk-estimator sk-toggleable\"><input class=\"sk-toggleable__control sk-hidden--visually\" id=\"ae918214-2829-4712-9ee3-c4415d353930\" type=\"checkbox\" ><label class=\"sk-toggleable__label\" for=\"ae918214-2829-4712-9ee3-c4415d353930\">RobustScaler</label><div class=\"sk-toggleable__content\"><pre>RobustScaler()</pre></div></div></div><div class=\"sk-item\"><div class=\"sk-estimator sk-toggleable\"><input class=\"sk-toggleable__control sk-hidden--visually\" id=\"10d4d863-348a-4a9b-a3a5-82ddbbf9cdd6\" type=\"checkbox\" ><label class=\"sk-toggleable__label\" for=\"10d4d863-348a-4a9b-a3a5-82ddbbf9cdd6\">PowerTransformer</label><div class=\"sk-toggleable__content\"><pre>PowerTransformer()</pre></div></div></div></div></div></div></div></div><div class=\"sk-parallel-item\"><div class=\"sk-item\"><div class=\"sk-label-container\"><div class=\"sk-label sk-toggleable\"><input class=\"sk-toggleable__control sk-hidden--visually\" id=\"bd7bad78-883e-4c7d-82b4-6432bca72589\" type=\"checkbox\" ><label class=\"sk-toggleable__label\" for=\"bd7bad78-883e-4c7d-82b4-6432bca72589\">None</label><div class=\"sk-toggleable__content\"><pre>['Age']</pre></div></div></div><div class=\"sk-serial\"><div class=\"sk-item\"><div class=\"sk-estimator sk-toggleable\"><input class=\"sk-toggleable__control sk-hidden--visually\" id=\"f2261b32-d4fc-4761-a53c-a398d42d77de\" type=\"checkbox\" ><label class=\"sk-toggleable__label\" for=\"f2261b32-d4fc-4761-a53c-a398d42d77de\">NoTransformer</label><div class=\"sk-toggleable__content\"><pre>NoTransformer()</pre></div></div></div></div></div></div></div></div></div></div><div class=\"sk-item\"><div class=\"sk-estimator sk-toggleable\"><input class=\"sk-toggleable__control sk-hidden--visually\" id=\"be6f5c74-9316-4c2a-8386-79fd8b64b436\" type=\"checkbox\" ><label class=\"sk-toggleable__label\" for=\"be6f5c74-9316-4c2a-8386-79fd8b64b436\">GradientBoostingClassifier</label><div class=\"sk-toggleable__content\"><pre>GradientBoostingClassifier(random_state=0)</pre></div></div></div></div></div></div></div></div></div></div></div></div>"
      ],
      "text/plain": [
       "BayesSearchCV(cv=KFold(n_splits=5, random_state=1, shuffle=True),\n",
       "              estimator=Pipeline(steps=[('preModel',\n",
       "                                         Pipeline(steps=[('engineer',\n",
       "                                                          FeatureEngineer()),\n",
       "                                                         ('ageImputer',\n",
       "                                                          GroupImputer(by=['Title',\n",
       "                                                                           'Sex'],\n",
       "                                                                       variable='Age')),\n",
       "                                                         ('columnTransform',\n",
       "                                                          ColumnTransformer(transformers=[('Count',\n",
       "                                                                                           Pipeline(steps=[('imputer',\n",
       "                                                                                                            SimpleImputer(strategy='most_frequent'))]),\n",
       "                                                                                           ['Pclass'...\n",
       "                                                                                           Pipeline(steps=[('imputer',\n",
       "                                                                                                            SimpleImputer(strategy='median')),\n",
       "                                                                                                           ('scaler',\n",
       "                                                                                                            RobustScaler()),\n",
       "                                                                                                           ('power',\n",
       "                                                                                                            PowerTransformer())]),\n",
       "                                                                                           ['Fare']),\n",
       "                                                                                          ('None',\n",
       "                                                                                           NoTransformer(),\n",
       "                                                                                           ['Age'])]))])),\n",
       "                                        ('model',\n",
       "                                         GradientBoostingClassifier(random_state=0))]),\n",
       "              n_jobs=-1, scoring='accuracy',\n",
       "              search_spaces={'model__learning_rate': Real(low=1e-06, high=1, prior='log-uniform', transform='identity')})"
      ]
     },
     "execution_count": 731,
     "metadata": {},
     "output_type": "execute_result"
    }
   ],
   "source": [
    "gridSearch = BayesSearchCV(\n",
    "    pipeline, params, scoring='accuracy',\n",
    "    cv=cv, refit=True, n_jobs=nJobs, n_iter=50)\n",
    "gridSearch.fit(X_train, y_train)"
   ]
  },
  {
   "cell_type": "code",
   "execution_count": 732,
   "metadata": {},
   "outputs": [
    {
     "data": {
      "text/plain": [
       "0.8435754189944135"
      ]
     },
     "execution_count": 732,
     "metadata": {},
     "output_type": "execute_result"
    }
   ],
   "source": [
    "gridSearch.score(X_valid, y_valid)"
   ]
  },
  {
   "cell_type": "markdown",
   "metadata": {},
   "source": [
    "### Generate predictions\n",
    " - Refit model with full test dataset"
   ]
  },
  {
   "cell_type": "code",
   "execution_count": 733,
   "metadata": {},
   "outputs": [],
   "source": [
    "gridSearch.fit(X, y)\n",
    "X_test = pd.read_csv(test, index_col=index, dtype=dtypes)\n",
    "predictions = gridSearch.predict(X_test).astype(int)\n",
    "submission = pd.DataFrame({'PassengerId':X_test.index,'Survived': predictions})\n",
    "submission.to_csv('submission.csv', index=False)"
   ]
  },
  {
   "cell_type": "markdown",
   "metadata": {},
   "source": [
    "# Interpretation - assessing feature importance"
   ]
  },
  {
   "cell_type": "code",
   "execution_count": 735,
   "metadata": {},
   "outputs": [],
   "source": [
    "def getFeatureNames(columnTransformer):\n",
    "    \"\"\" Extract feature names from column transformer. \n",
    "        If transformers are pipelines then encoding step\n",
    "        should be last\n",
    "        Ref: https://github.com/scikit-learn/scikit-learn/issues/12525 \n",
    "    \"\"\"\n",
    "    colNames = []\n",
    "    for tupleTransformer in columnTransformer.transformers_[:-1]:\n",
    "        if isinstance(tupleTransformer[1], Pipeline): \n",
    "            transformer = tupleTransformer[1].steps[-1][1]\n",
    "        else:\n",
    "            transformer = tupleTransformer[1]\n",
    "        try:\n",
    "            names = transformer.get_feature_names()\n",
    "        except AttributeError:\n",
    "            names = tupleTransformer[2]\n",
    "        if isinstance(names, str):\n",
    "            colNames.append(names)\n",
    "        else:\n",
    "            colNames.extend(list(names))   \n",
    "    return colNames"
   ]
  },
  {
   "cell_type": "code",
   "execution_count": 736,
   "metadata": {},
   "outputs": [],
   "source": [
    "preModelTransformer = gridSearch.best_estimator_.named_steps['preModel']\n",
    "columnTransformer = preModelTransformer.named_steps['columnTransform']\n",
    "model = gridSearch.best_estimator_.named_steps['model']\n",
    "featureNames = getFeatureNames(columnTransformer)"
   ]
  },
  {
   "cell_type": "markdown",
   "metadata": {},
   "source": [
    "### Try out the preModelTransformer"
   ]
  },
  {
   "cell_type": "code",
   "execution_count": 737,
   "metadata": {},
   "outputs": [
    {
     "data": {
      "text/html": [
       "<div>\n",
       "<style scoped>\n",
       "    .dataframe tbody tr th:only-of-type {\n",
       "        vertical-align: middle;\n",
       "    }\n",
       "\n",
       "    .dataframe tbody tr th {\n",
       "        vertical-align: top;\n",
       "    }\n",
       "\n",
       "    .dataframe thead th {\n",
       "        text-align: right;\n",
       "    }\n",
       "</style>\n",
       "<table border=\"1\" class=\"dataframe\">\n",
       "  <thead>\n",
       "    <tr style=\"text-align: right;\">\n",
       "      <th></th>\n",
       "      <th>Pclass</th>\n",
       "      <th>Relatives</th>\n",
       "      <th>x0_female</th>\n",
       "      <th>x0_male</th>\n",
       "      <th>x1_C</th>\n",
       "      <th>x1_Q</th>\n",
       "      <th>x1_S</th>\n",
       "      <th>Fare</th>\n",
       "      <th>Age</th>\n",
       "    </tr>\n",
       "  </thead>\n",
       "  <tbody>\n",
       "    <tr>\n",
       "      <th>0</th>\n",
       "      <td>3.0</td>\n",
       "      <td>0.0</td>\n",
       "      <td>0.0</td>\n",
       "      <td>1.0</td>\n",
       "      <td>1.0</td>\n",
       "      <td>0.0</td>\n",
       "      <td>0.0</td>\n",
       "      <td>-0.183216</td>\n",
       "      <td>30.0</td>\n",
       "    </tr>\n",
       "    <tr>\n",
       "      <th>1</th>\n",
       "      <td>3.0</td>\n",
       "      <td>0.0</td>\n",
       "      <td>0.0</td>\n",
       "      <td>1.0</td>\n",
       "      <td>0.0</td>\n",
       "      <td>0.0</td>\n",
       "      <td>1.0</td>\n",
       "      <td>-0.992692</td>\n",
       "      <td>30.0</td>\n",
       "    </tr>\n",
       "    <tr>\n",
       "      <th>2</th>\n",
       "      <td>3.0</td>\n",
       "      <td>5.0</td>\n",
       "      <td>0.0</td>\n",
       "      <td>1.0</td>\n",
       "      <td>0.0</td>\n",
       "      <td>1.0</td>\n",
       "      <td>0.0</td>\n",
       "      <td>0.661038</td>\n",
       "      <td>7.0</td>\n",
       "    </tr>\n",
       "    <tr>\n",
       "      <th>3</th>\n",
       "      <td>1.0</td>\n",
       "      <td>1.0</td>\n",
       "      <td>1.0</td>\n",
       "      <td>0.0</td>\n",
       "      <td>1.0</td>\n",
       "      <td>0.0</td>\n",
       "      <td>0.0</td>\n",
       "      <td>1.822165</td>\n",
       "      <td>35.0</td>\n",
       "    </tr>\n",
       "    <tr>\n",
       "      <th>4</th>\n",
       "      <td>3.0</td>\n",
       "      <td>2.0</td>\n",
       "      <td>1.0</td>\n",
       "      <td>0.0</td>\n",
       "      <td>1.0</td>\n",
       "      <td>0.0</td>\n",
       "      <td>0.0</td>\n",
       "      <td>-0.114130</td>\n",
       "      <td>29.0</td>\n",
       "    </tr>\n",
       "  </tbody>\n",
       "</table>\n",
       "</div>"
      ],
      "text/plain": [
       "   Pclass  Relatives  x0_female  x0_male  x1_C  x1_Q  x1_S      Fare   Age\n",
       "0     3.0        0.0        0.0      1.0   1.0   0.0   0.0 -0.183216  30.0\n",
       "1     3.0        0.0        0.0      1.0   0.0   0.0   1.0 -0.992692  30.0\n",
       "2     3.0        5.0        0.0      1.0   0.0   1.0   0.0  0.661038   7.0\n",
       "3     1.0        1.0        1.0      0.0   1.0   0.0   0.0  1.822165  35.0\n",
       "4     3.0        2.0        1.0      0.0   1.0   0.0   0.0 -0.114130  29.0"
      ]
     },
     "execution_count": 737,
     "metadata": {},
     "output_type": "execute_result"
    }
   ],
   "source": [
    "transformedDf = pd.DataFrame(preModelTransformer.transform(X_valid), columns=featureNames)\n",
    "transformedDf.head()"
   ]
  },
  {
   "cell_type": "code",
   "execution_count": 738,
   "metadata": {},
   "outputs": [
    {
     "data": {
      "text/html": [
       "\n",
       "    <style>\n",
       "    table.eli5-weights tr:hover {\n",
       "        filter: brightness(85%);\n",
       "    }\n",
       "</style>\n",
       "\n",
       "\n",
       "\n",
       "    \n",
       "\n",
       "    \n",
       "\n",
       "    \n",
       "\n",
       "    \n",
       "\n",
       "    \n",
       "\n",
       "    \n",
       "\n",
       "\n",
       "    \n",
       "\n",
       "    \n",
       "\n",
       "    \n",
       "\n",
       "    \n",
       "\n",
       "    \n",
       "\n",
       "    \n",
       "\n",
       "\n",
       "    \n",
       "\n",
       "    \n",
       "\n",
       "    \n",
       "\n",
       "    \n",
       "\n",
       "    \n",
       "        <table class=\"eli5-weights eli5-feature-importances\" style=\"border-collapse: collapse; border: none; margin-top: 0em; table-layout: auto;\">\n",
       "    <thead>\n",
       "    <tr style=\"border: none;\">\n",
       "        <th style=\"padding: 0 1em 0 0.5em; text-align: right; border: none;\">Weight</th>\n",
       "        <th style=\"padding: 0 0.5em 0 0.5em; text-align: left; border: none;\">Feature</th>\n",
       "    </tr>\n",
       "    </thead>\n",
       "    <tbody>\n",
       "    \n",
       "        <tr style=\"background-color: hsl(120, 100.00%, 80.00%); border: none;\">\n",
       "            <td style=\"padding: 0 1em 0 0.5em; text-align: right; border: none;\">\n",
       "                0.2516\n",
       "                \n",
       "                    &plusmn; 0.2639\n",
       "                \n",
       "            </td>\n",
       "            <td style=\"padding: 0 0.5em 0 0.5em; text-align: left; border: none;\">\n",
       "                x0_male\n",
       "            </td>\n",
       "        </tr>\n",
       "    \n",
       "        <tr style=\"background-color: hsl(120, 100.00%, 83.34%); border: none;\">\n",
       "            <td style=\"padding: 0 1em 0 0.5em; text-align: right; border: none;\">\n",
       "                0.1938\n",
       "                \n",
       "                    &plusmn; 0.5622\n",
       "                \n",
       "            </td>\n",
       "            <td style=\"padding: 0 0.5em 0 0.5em; text-align: left; border: none;\">\n",
       "                Fare\n",
       "            </td>\n",
       "        </tr>\n",
       "    \n",
       "        <tr style=\"background-color: hsl(120, 100.00%, 83.68%); border: none;\">\n",
       "            <td style=\"padding: 0 1em 0 0.5em; text-align: right; border: none;\">\n",
       "                0.1881\n",
       "                \n",
       "                    &plusmn; 0.2760\n",
       "                \n",
       "            </td>\n",
       "            <td style=\"padding: 0 0.5em 0 0.5em; text-align: left; border: none;\">\n",
       "                x0_female\n",
       "            </td>\n",
       "        </tr>\n",
       "    \n",
       "        <tr style=\"background-color: hsl(120, 100.00%, 87.08%); border: none;\">\n",
       "            <td style=\"padding: 0 1em 0 0.5em; text-align: right; border: none;\">\n",
       "                0.1348\n",
       "                \n",
       "                    &plusmn; 0.2474\n",
       "                \n",
       "            </td>\n",
       "            <td style=\"padding: 0 0.5em 0 0.5em; text-align: left; border: none;\">\n",
       "                Pclass\n",
       "            </td>\n",
       "        </tr>\n",
       "    \n",
       "        <tr style=\"background-color: hsl(120, 100.00%, 87.54%); border: none;\">\n",
       "            <td style=\"padding: 0 1em 0 0.5em; text-align: right; border: none;\">\n",
       "                0.1279\n",
       "                \n",
       "                    &plusmn; 0.4601\n",
       "                \n",
       "            </td>\n",
       "            <td style=\"padding: 0 0.5em 0 0.5em; text-align: left; border: none;\">\n",
       "                Age\n",
       "            </td>\n",
       "        </tr>\n",
       "    \n",
       "        <tr style=\"background-color: hsl(120, 100.00%, 90.77%); border: none;\">\n",
       "            <td style=\"padding: 0 1em 0 0.5em; text-align: right; border: none;\">\n",
       "                0.0833\n",
       "                \n",
       "                    &plusmn; 0.2124\n",
       "                \n",
       "            </td>\n",
       "            <td style=\"padding: 0 0.5em 0 0.5em; text-align: left; border: none;\">\n",
       "                Relatives\n",
       "            </td>\n",
       "        </tr>\n",
       "    \n",
       "        <tr style=\"background-color: hsl(120, 100.00%, 97.29%); border: none;\">\n",
       "            <td style=\"padding: 0 1em 0 0.5em; text-align: right; border: none;\">\n",
       "                0.0145\n",
       "                \n",
       "                    &plusmn; 0.0955\n",
       "                \n",
       "            </td>\n",
       "            <td style=\"padding: 0 0.5em 0 0.5em; text-align: left; border: none;\">\n",
       "                x1_S\n",
       "            </td>\n",
       "        </tr>\n",
       "    \n",
       "        <tr style=\"background-color: hsl(120, 100.00%, 99.01%); border: none;\">\n",
       "            <td style=\"padding: 0 1em 0 0.5em; text-align: right; border: none;\">\n",
       "                0.0035\n",
       "                \n",
       "                    &plusmn; 0.0874\n",
       "                \n",
       "            </td>\n",
       "            <td style=\"padding: 0 0.5em 0 0.5em; text-align: left; border: none;\">\n",
       "                x1_Q\n",
       "            </td>\n",
       "        </tr>\n",
       "    \n",
       "        <tr style=\"background-color: hsl(120, 100.00%, 99.19%); border: none;\">\n",
       "            <td style=\"padding: 0 1em 0 0.5em; text-align: right; border: none;\">\n",
       "                0.0026\n",
       "                \n",
       "                    &plusmn; 0.1327\n",
       "                \n",
       "            </td>\n",
       "            <td style=\"padding: 0 0.5em 0 0.5em; text-align: left; border: none;\">\n",
       "                x1_C\n",
       "            </td>\n",
       "        </tr>\n",
       "    \n",
       "    \n",
       "    </tbody>\n",
       "</table>\n",
       "    \n",
       "\n",
       "    \n",
       "\n",
       "\n",
       "    \n",
       "\n",
       "    \n",
       "\n",
       "    \n",
       "\n",
       "    \n",
       "\n",
       "    \n",
       "\n",
       "    \n",
       "\n",
       "\n",
       "\n"
      ],
      "text/plain": [
       "Explanation(estimator='GradientBoostingClassifier(learning_rate=0.14353044602922824, random_state=0)', description='\\nRandom forest feature importances; values are numbers 0 <= x <= 1;\\nall values sum to 1.\\n', error=None, method='feature importances', is_regression=False, targets=None, feature_importances=FeatureImportances(importances=[FeatureWeight(feature='x0_male', weight=0.25155044373226726, std=0.13193800970580183, value=None), FeatureWeight(feature='Fare', weight=0.19379721513779571, std=0.281117921715559, value=None), FeatureWeight(feature='x0_female', weight=0.18814204283680855, std=0.13800352858709516, value=None), FeatureWeight(feature='Pclass', weight=0.13477851631164486, std=0.12372408963119981, value=None), FeatureWeight(feature='Age', weight=0.1278821793214798, std=0.23003147956175704, value=None), FeatureWeight(feature='Relatives', weight=0.0833435274196631, std=0.10617994429551207, value=None), FeatureWeight(feature='x1_S', weight=0.014468526371334431, std=0.04774877612109835, value=None), FeatureWeight(feature='x1_Q', weight=0.0034571609630528995, std=0.04371274884707653, value=None), FeatureWeight(feature='x1_C', weight=0.0025803879059533106, std=0.06635939862983273, value=None)], remaining=0), decision_tree=None, highlight_spaces=None, transition_features=None, image=None)"
      ]
     },
     "execution_count": 738,
     "metadata": {},
     "output_type": "execute_result"
    }
   ],
   "source": [
    "eli5.explain_weights(model, feature_names=featureNames)"
   ]
  },
  {
   "cell_type": "code",
   "execution_count": null,
   "metadata": {},
   "outputs": [],
   "source": []
  }
 ],
 "metadata": {
  "kernelspec": {
   "display_name": "Python 3",
   "language": "python",
   "name": "python3"
  },
  "language_info": {
   "codemirror_mode": {
    "name": "ipython",
    "version": 3
   },
   "file_extension": ".py",
   "mimetype": "text/x-python",
   "name": "python",
   "nbconvert_exporter": "python",
   "pygments_lexer": "ipython3",
   "version": "3.7.3"
  }
 },
 "nbformat": 4,
 "nbformat_minor": 4
}
