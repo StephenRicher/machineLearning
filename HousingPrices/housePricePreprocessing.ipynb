{
 "cells": [
  {
   "cell_type": "code",
   "execution_count": 1,
   "metadata": {},
   "outputs": [],
   "source": [
    "import os\n",
    "import warnings\n",
    "import numpy as np\n",
    "import pandas as pd\n",
    "import seaborn as sns\n",
    "from scipy import stats\n",
    "from scipy import linalg\n",
    "import matplotlib.pyplot as plt\n",
    "from scipy.stats import pearsonr, chi2\n",
    "from sklearn.covariance import MinCovDet\n",
    "from pandas.api.types import is_numeric_dtype\n",
    "import utilities as utils"
   ]
  },
  {
   "cell_type": "code",
   "execution_count": 2,
   "metadata": {},
   "outputs": [],
   "source": [
    "sns.set_theme(style=\"whitegrid\")\n",
    "plt.rcParams[\"figure.figsize\"] = (12,8)\n",
    "warnings.filterwarnings('ignore')"
   ]
  },
  {
   "cell_type": "code",
   "execution_count": 3,
   "metadata": {},
   "outputs": [],
   "source": [
    "trainPath = 'train.csv'\n",
    "target = 'SalePrice'\n",
    "outdir = 'plots'"
   ]
  },
  {
   "cell_type": "code",
   "execution_count": 4,
   "metadata": {},
   "outputs": [],
   "source": [
    "X = pd.read_csv(trainPath, index_col='Id')"
   ]
  },
  {
   "cell_type": "code",
   "execution_count": null,
   "metadata": {},
   "outputs": [],
   "source": [
    "utils.plotAllFeatures(X, target, outdir=outdir)"
   ]
  },
  {
   "cell_type": "code",
   "execution_count": 20,
   "metadata": {},
   "outputs": [
    {
     "name": "stdout",
     "output_type": "stream",
     "text": [
      "GarageArea\n"
     ]
    }
   ],
   "source": [
    "dataSkewness = X.skew().sort_values(ascending=False)\n",
    "skewed = dataSkewness[abs(dataSkewness) > 0.5]\n",
    "\n",
    "realMult =['LotFrontage', 'LotArea', 'MasVnrArea',\n",
    "            'BsmtFinSF1', 'BsmtFinSF2', 'BsmtUnfSF',\n",
    "                'TotalBsmtSF', '1stFlrSF', '2ndFlrSF',\n",
    "                'LowQualFinSF', 'GrLivArea', 'GarageArea',\n",
    "                'WoodDeckSF', 'OpenPorchSF', 'EnclosedPorch',\n",
    "                '3SsnPorch', 'ScreenPorch', 'PoolArea', 'MiscVal']\n",
    "\n",
    "for a in realMult:\n",
    "    if a not in skewed:\n",
    "        print(a)"
   ]
  },
  {
   "cell_type": "code",
   "execution_count": 9,
   "metadata": {},
   "outputs": [
    {
     "name": "stdout",
     "output_type": "stream",
     "text": [
      "1.4076567471495591\n",
      "2.163569142324884\n",
      "12.207687851233496\n",
      "0.2169439277628693\n",
      "0.6930674724842182\n",
      "-0.613461172488183\n",
      "-0.5035620027004709\n",
      "2.669084210182863\n",
      "1.685503071910789\n",
      "4.255261108933303\n",
      "0.9202684528039037\n",
      "1.5242545490627664\n",
      "1.3767566220336365\n",
      "0.8130298163023265\n",
      "9.011341288465387\n",
      "1.3665603560164552\n",
      "0.596066609663168\n",
      "4.103402697955168\n",
      "0.036561558402727165\n",
      "0.675897448233722\n",
      "0.21179009627507137\n",
      "4.488396777072859\n",
      "0.6763408364355531\n",
      "0.6495651830548841\n",
      "-0.6494146238714679\n",
      "-0.3425489297486655\n",
      "0.17998090674623907\n",
      "1.5413757571931312\n",
      "2.3643417403694404\n",
      "3.08987190371177\n",
      "10.304342032693112\n",
      "4.122213743143115\n",
      "14.828373640750588\n",
      "24.476794188821916\n",
      "0.21205298505146022\n",
      "0.09626851386568028\n",
      "1.8828757597682129\n"
     ]
    }
   ],
   "source": [
    "for name, data in X.iteritems():\n",
    "    if is_numeric_dtype(data):\n",
    "        print(data.skew())"
   ]
  },
  {
   "cell_type": "markdown",
   "metadata": {},
   "source": [
    "### Correlation analysis\n",
    "- Correlate each numerical feature with the predictor.\n",
    "- Save p-value, N and correlation coefficient for later."
   ]
  },
  {
   "cell_type": "code",
   "execution_count": null,
   "metadata": {},
   "outputs": [],
   "source": [
    "print(correlations.loc[\n",
    "    (correlations['feature1'] != target) \n",
    "    & (correlations['feature2'] != target)\n",
    "    & (correlations['feature1'] != correlations['feature2'])\n",
    "    & (abs(correlations['R'] > 0.6))])"
   ]
  },
  {
   "cell_type": "code",
   "execution_count": null,
   "metadata": {},
   "outputs": [],
   "source": [
    "correlations = utils.computeCorrelation(X)\n",
    "utils.plotPairwiseCorrelation(\n",
    "    correlations, out=f'{outdir}/pairwiseCorrelations.png')"
   ]
  },
  {
   "cell_type": "code",
   "execution_count": null,
   "metadata": {},
   "outputs": [],
   "source": [
    "fig, (ax1, ax2) = utils.plotTargetCorrelation(\n",
    "    correlations, target, out = f'{outdir}/{target}-correlations.png')"
   ]
  },
  {
   "cell_type": "markdown",
   "metadata": {},
   "source": [
    "### Missing data assessment\n",
    "- Compute NA frequency for each feature"
   ]
  },
  {
   "cell_type": "code",
   "execution_count": null,
   "metadata": {},
   "outputs": [],
   "source": [
    "nullOrd = X.isnull().sum().sort_values(ascending=False)\n",
    "nullOrd = nullOrd[nullOrd > 0]\n",
    "nullOrd = pd.DataFrame(nullOrd, columns=['TotalNA'])\n",
    "nullOrd['PropNA'] = nullOrd['TotalNA'] / len(X)\n",
    "nullOrd"
   ]
  },
  {
   "cell_type": "code",
   "execution_count": null,
   "metadata": {},
   "outputs": [],
   "source": [
    "fix, ax = plt.subplots()\n",
    "sns.heatmap(X[nullOrd.index].isnull().T, yticklabels=1, cmap='viridis', cbar=False, xticklabels=False, ax=ax)\n",
    "ax.set_xlabel('')\n",
    "ax.tick_params(left=True)\n",
    "fig.tight_layout()"
   ]
  },
  {
   "cell_type": "markdown",
   "metadata": {},
   "source": [
    "## Missing values"
   ]
  },
  {
   "cell_type": "markdown",
   "metadata": {},
   "source": [
    "### High proportion NA features\n",
    "- Remove all features with > 15% missing values.\n",
    "- No strong relationship with SalePrice anyway."
   ]
  },
  {
   "cell_type": "code",
   "execution_count": null,
   "metadata": {},
   "outputs": [],
   "source": [
    "# Processing\n",
    "X['Alley'] = X['Alley'].fillna('No alley access')\n",
    "X['BsmtQual'] = X['BsmtQual'].fillna('No Basement')\n",
    "X['BsmtCond'] = X['BsmtCond'].fillna('No Basement')\n",
    "X['BsmtExposure'] = X['BsmtExposure'].fillna('No Basement')\n",
    "X['BsmtFinType1'] = X['BsmtFinType1'].fillna('No Basement')\n",
    "X['BsmtFinType2'] = X['BsmtFinType2'].fillna('No Basement')\n",
    "X['BsmtFullBath'] = X['BsmtFullBath'].fillna(0)\n",
    "X['BsmtHalfBath'] = X['BsmtHalfBath'].fillna(0)\n",
    "X['BsmtUnfSF'] = X['BsmtUnfSF'].fillna(0)\n",
    "X['Fence'] = X['Fence'].fillna('No Fence' )\n",
    "X['FireplaceQu'] = X['FireplaceQu'].fillna('No Fireplace')\n",
    "X['Fireplaces'] = X['Fireplaces'].fillna(0)\n",
    "X['MiscFeature'] = X['MiscFeature'].fillna('No misc feature')\n",
    "X['MiscVal'] = X['MiscVal'].fillna(0)\n",
    "X['Functional'] = X['Functional'].fillna('Typ')\n",
    "X['GarageType'] = X['GarageType'].fillna('No garage')\n",
    "X['GarageFinish'] = X['GarageFinish'].fillna('No garage')\n",
    "X['GarageQual'] = X['GarageQual'].fillna('No garage')\n",
    "X['GarageCond'] = X['GarageCond'].fillna('No garage')\n",
    "X['GarageArea'] = X['GarageArea'].fillna(0)\n",
    "X['GarageCars'] = X['GarageCars'].fillna(0)\n",
    "X['PoolQC'] = X['PoolQC'].fillna('No pool')\n",
    "X['PoolArea'] = X['PoolArea'].fillna(0)"
   ]
  },
  {
   "cell_type": "markdown",
   "metadata": {},
   "source": [
    "### Save processed\n",
    "- Remerge features and predictor.\n",
    "- Ensure to filter predictor by remaining indexes in feature in case rows have been filtered."
   ]
  },
  {
   "cell_type": "code",
   "execution_count": null,
   "metadata": {},
   "outputs": [],
   "source": [
    "X.to_csv('trainFilt.csv')"
   ]
  },
  {
   "cell_type": "markdown",
   "metadata": {},
   "source": [
    "## Inspecting categoricals"
   ]
  },
  {
   "cell_type": "code",
   "execution_count": null,
   "metadata": {},
   "outputs": [],
   "source": [
    "catGroups = X.select_dtypes(exclude=['number'])\n",
    "catDescribe = catGroups.describe().sort_values(by=['unique'], ascending=False, axis=1).T\n",
    "catSmallest = catGroups.melt().groupby('variable').apply(lambda x: x.value_counts().min()).rename('smallestGroup')\n",
    "catDescribe = pd.merge(catDescribe, catSmallest,\n",
    "                       left_index=True, right_index=True)\n",
    "catDescribe"
   ]
  },
  {
   "cell_type": "code",
   "execution_count": null,
   "metadata": {},
   "outputs": [],
   "source": [
    "X['Neighborhood'] = X['Neighborhood'].replace(countsSum[countsSum < 0.25].index, 'other')"
   ]
  },
  {
   "cell_type": "code",
   "execution_count": null,
   "metadata": {},
   "outputs": [],
   "source": []
  }
 ],
 "metadata": {
  "kernelspec": {
   "display_name": "Python 3",
   "language": "python",
   "name": "python3"
  },
  "language_info": {
   "codemirror_mode": {
    "name": "ipython",
    "version": 3
   },
   "file_extension": ".py",
   "mimetype": "text/x-python",
   "name": "python",
   "nbconvert_exporter": "python",
   "pygments_lexer": "ipython3",
   "version": "3.7.3"
  }
 },
 "nbformat": 4,
 "nbformat_minor": 4
}
