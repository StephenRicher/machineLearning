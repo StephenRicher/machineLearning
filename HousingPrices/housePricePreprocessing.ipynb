{
 "cells": [
  {
   "cell_type": "code",
   "execution_count": null,
   "metadata": {},
   "outputs": [],
   "source": [
    "import os\n",
    "import warnings\n",
    "import numpy as np\n",
    "import pandas as pd\n",
    "import seaborn as sns\n",
    "from scipy import stats\n",
    "from scipy import linalg\n",
    "import matplotlib.pyplot as plt\n",
    "from scipy.stats import pearsonr, chi2\n",
    "from sklearn.covariance import MinCovDet\n",
    "from pandas.api.types import is_numeric_dtype\n",
    "import utilities as utils"
   ]
  },
  {
   "cell_type": "code",
   "execution_count": null,
   "metadata": {},
   "outputs": [],
   "source": [
    "sns.set_theme(style=\"whitegrid\")\n",
    "plt.rcParams[\"figure.figsize\"] = (12,8)\n",
    "warnings.filterwarnings('ignore')"
   ]
  },
  {
   "cell_type": "code",
   "execution_count": null,
   "metadata": {},
   "outputs": [],
   "source": [
    "trainPath = 'train.csv'\n",
    "target = 'SalePrice'\n",
    "outdir = 'plots'"
   ]
  },
  {
   "cell_type": "code",
   "execution_count": null,
   "metadata": {},
   "outputs": [],
   "source": [
    "X = pd.read_csv(trainPath, index_col='Id')"
   ]
  },
  {
   "cell_type": "code",
   "execution_count": null,
   "metadata": {},
   "outputs": [],
   "source": [
    "utils.plotAllFeatures(X, target, outdir=outdir)"
   ]
  },
  {
   "cell_type": "markdown",
   "metadata": {},
   "source": [
    "### Correlation analysis\n",
    "- Correlate each numerical feature with the predictor.\n",
    "- Save p-value, N and correlation coefficient for later."
   ]
  },
  {
   "cell_type": "code",
   "execution_count": null,
   "metadata": {},
   "outputs": [],
   "source": [
    "print(correlations.loc[\n",
    "    (correlations['feature1'] != target) \n",
    "    & (correlations['feature2'] != target)\n",
    "    & (correlations['feature1'] != correlations['feature2'])\n",
    "    & (abs(correlations['R'] > 0.6))])"
   ]
  },
  {
   "cell_type": "code",
   "execution_count": null,
   "metadata": {},
   "outputs": [],
   "source": [
    "correlations = utils.computeCorrelation(X)\n",
    "utils.plotPairwiseCorrelation(\n",
    "    correlations, out=f'{outdir}/pairwiseCorrelations.png')"
   ]
  },
  {
   "cell_type": "code",
   "execution_count": null,
   "metadata": {},
   "outputs": [],
   "source": [
    "fig, (ax1, ax2) = utils.plotTargetCorrelation(\n",
    "    correlations, target, out = f'{outdir}/{target}-correlations.png')"
   ]
  },
  {
   "cell_type": "markdown",
   "metadata": {},
   "source": [
    "### Missing data assessment\n",
    "- Compute NA frequency for each feature"
   ]
  },
  {
   "cell_type": "code",
   "execution_count": null,
   "metadata": {},
   "outputs": [],
   "source": [
    "nullOrd = X.isnull().sum().sort_values(ascending=False)\n",
    "nullOrd = nullOrd[nullOrd > 0]\n",
    "nullOrd = pd.DataFrame(nullOrd, columns=['TotalNA'])\n",
    "nullOrd['PropNA'] = nullOrd['TotalNA'] / len(X)\n",
    "nullOrd"
   ]
  },
  {
   "cell_type": "code",
   "execution_count": null,
   "metadata": {},
   "outputs": [],
   "source": [
    "fix, ax = plt.subplots()\n",
    "sns.heatmap(X[nullOrd.index].isnull().T, yticklabels=1, cmap='viridis', cbar=False, xticklabels=False, ax=ax)\n",
    "ax.set_xlabel('')\n",
    "ax.tick_params(left=True)\n",
    "fig.tight_layout()"
   ]
  },
  {
   "cell_type": "markdown",
   "metadata": {},
   "source": [
    "## Missing values"
   ]
  },
  {
   "cell_type": "markdown",
   "metadata": {},
   "source": [
    "### High proportion NA features\n",
    "- Remove all features with > 15% missing values.\n",
    "- No strong relationship with SalePrice anyway."
   ]
  },
  {
   "cell_type": "code",
   "execution_count": null,
   "metadata": {},
   "outputs": [],
   "source": [
    "# Processing\n",
    "X['Alley'] = X['Alley'].fillna('No alley access')\n",
    "X['BsmtQual'] = X['BsmtQual'].fillna('No Basement')\n",
    "X['BsmtCond'] = X['BsmtCond'].fillna('No Basement')\n",
    "X['BsmtExposure'] = X['BsmtExposure'].fillna('No Basement')\n",
    "X['BsmtFinType1'] = X['BsmtFinType1'].fillna('No Basement')\n",
    "X['BsmtFinType2'] = X['BsmtFinType2'].fillna('No Basement')\n",
    "X['BsmtFullBath'] = X['BsmtFullBath'].fillna(0)\n",
    "X['BsmtHalfBath'] = X['BsmtHalfBath'].fillna(0)\n",
    "X['BsmtUnfSF'] = X['BsmtUnfSF'].fillna(0)\n",
    "X['Fence'] = X['Fence'].fillna('No Fence' )\n",
    "X['FireplaceQu'] = X['FireplaceQu'].fillna('No Fireplace')\n",
    "X['Fireplaces'] = X['Fireplaces'].fillna(0)\n",
    "X['MiscFeature'] = X['MiscFeature'].fillna('No misc feature')\n",
    "X['MiscVal'] = X['MiscVal'].fillna(0)\n",
    "X['Functional'] = X['Functional'].fillna('Typ')\n",
    "X['GarageType'] = X['GarageType'].fillna('No garage')\n",
    "X['GarageFinish'] = X['GarageFinish'].fillna('No garage')\n",
    "X['GarageQual'] = X['GarageQual'].fillna('No garage')\n",
    "X['GarageCond'] = X['GarageCond'].fillna('No garage')\n",
    "X['GarageArea'] = X['GarageArea'].fillna(0)\n",
    "X['GarageCars'] = X['GarageCars'].fillna(0)\n",
    "X['PoolQC'] = X['PoolQC'].fillna('No pool')\n",
    "X['PoolArea'] = X['PoolArea'].fillna(0)"
   ]
  },
  {
   "cell_type": "markdown",
   "metadata": {},
   "source": [
    "### Save processed\n",
    "- Remerge features and predictor.\n",
    "- Ensure to filter predictor by remaining indexes in feature in case rows have been filtered."
   ]
  },
  {
   "cell_type": "code",
   "execution_count": null,
   "metadata": {},
   "outputs": [],
   "source": [
    "X.to_csv('trainFilt.csv')"
   ]
  },
  {
   "cell_type": "markdown",
   "metadata": {},
   "source": [
    "## Inspecting categoricals"
   ]
  },
  {
   "cell_type": "code",
   "execution_count": null,
   "metadata": {},
   "outputs": [],
   "source": [
    "catGroups = X.select_dtypes(exclude=['number'])\n",
    "catDescribe = catGroups.describe().sort_values(by=['unique'], ascending=False, axis=1).T\n",
    "catSmallest = catGroups.melt().groupby('variable').apply(lambda x: x.value_counts().min()).rename('smallestGroup')\n",
    "catDescribe = pd.merge(catDescribe, catSmallest,\n",
    "                       left_index=True, right_index=True)\n",
    "catDescribe"
   ]
  },
  {
   "cell_type": "code",
   "execution_count": null,
   "metadata": {},
   "outputs": [],
   "source": [
    "X['Neighborhood'] = X['Neighborhood'].replace(countsSum[countsSum < 0.25].index, 'other')"
   ]
  },
  {
   "cell_type": "code",
   "execution_count": null,
   "metadata": {},
   "outputs": [],
   "source": []
  }
 ],
 "metadata": {
  "kernelspec": {
   "display_name": "Python 3",
   "language": "python",
   "name": "python3"
  },
  "language_info": {
   "codemirror_mode": {
    "name": "ipython",
    "version": 3
   },
   "file_extension": ".py",
   "mimetype": "text/x-python",
   "name": "python",
   "nbconvert_exporter": "python",
   "pygments_lexer": "ipython3",
   "version": "3.7.3"
  }
 },
 "nbformat": 4,
 "nbformat_minor": 4
}
