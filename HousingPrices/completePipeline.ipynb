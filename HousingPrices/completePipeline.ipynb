{
 "cells": [
  {
   "cell_type": "code",
   "execution_count": 984,
   "metadata": {},
   "outputs": [],
   "source": [
    "import numpy as np\n",
    "import pandas as pd\n",
    "from sklearn.model_selection import train_test_split\n",
    "from sklearn.compose import ColumnTransformer\n",
    "from sklearn.datasets import fetch_openml\n",
    "from sklearn.pipeline import Pipeline\n",
    "from sklearn.impute import SimpleImputer\n",
    "from sklearn.preprocessing import StandardScaler, OneHotEncoder, RobustScaler, PowerTransformer\n",
    "from sklearn.linear_model import LogisticRegression\n",
    "from sklearn.model_selection import train_test_split, GridSearchCV\n",
    "from sklearn.compose import make_column_selector as selector\n",
    "from sklearn.metrics import mean_absolute_error, mean_squared_error\n",
    "from sklearn.ensemble import RandomForestRegressor\n",
    "from sklearn import set_config\n",
    "from xgboost import XGBRegressor\n",
    "from sklearn.compose import TransformedTargetRegressor\n",
    "from sklearn.model_selection import KFold\n",
    "from sklearn.preprocessing import FunctionTransformer\n",
    "from sklearn.preprocessing import OrdinalEncoder\n",
    "from sklearn.model_selection import ParameterGrid"
   ]
  },
  {
   "cell_type": "code",
   "execution_count": 985,
   "metadata": {},
   "outputs": [],
   "source": [
    "set_config(display='diagram')"
   ]
  },
  {
   "cell_type": "code",
   "execution_count": 986,
   "metadata": {},
   "outputs": [],
   "source": [
    "trainData = 'train.csv'\n",
    "testData = 'test.csv'\n",
    "index_col = 'Id'\n",
    "target_col = 'SalePrice'"
   ]
  },
  {
   "cell_type": "code",
   "execution_count": 987,
   "metadata": {},
   "outputs": [],
   "source": [
    "def cleanData(X):\n",
    "    \"\"\" Handle outlier remove outside of Pipeline \"\"\"\n",
    "    X = X[X['GrLivArea'] < 4000]\n",
    "    return X"
   ]
  },
  {
   "cell_type": "code",
   "execution_count": 1300,
   "metadata": {},
   "outputs": [],
   "source": [
    "class processHousePrices:\n",
    "    \n",
    "    def __init__(self):\n",
    "        self._prepared = False\n",
    "        # Store each feature in a defined group\n",
    "        self._features = ({\n",
    "            'categorical': ([\n",
    "                'MSSubClass', 'MSZoning', 'Street', 'Alley', 'LotShape',  \n",
    "                'LandContour', 'Utilities', 'LotConfig', 'Neighborhood', \n",
    "                'Condition1', 'Condition2', 'BldgType', 'HouseStyle', \n",
    "                'RoofStyle', 'RoofMatl', 'Exterior1st', 'Exterior2nd', \n",
    "                'MasVnrType', 'Foundation', 'Heating', 'Electrical', \n",
    "                'GarageType', 'GarageYrBlt', 'YearBuilt', 'MiscFeature', \n",
    "                'MoSold', 'YrSold', 'SaleType', 'SaleCondition', \n",
    "                'YearRemodAdd']),\n",
    "            'ordinal': ([\n",
    "                'LandSlope', 'OverallQual', 'ExterQual', 'ExterCond', \n",
    "                'BsmtQual', 'BsmtCond', 'BsmtExposure', 'BsmtFinType1', \n",
    "                'BsmtFinType2', 'HeatingQC', 'KitchenQual', 'Functional', \n",
    "                'FireplaceQu', 'GarageFinish', 'GarageQual', 'GarageCond', \n",
    "                'PavedDrive', 'PoolQC', 'Fence', 'OverallCond']),\n",
    "            'count': ([\n",
    "                'BsmtFullBath', 'BsmtHalfBath', 'FullBath', \n",
    "                'HalfBath', 'BedroomAbvGr', 'KitchenAbvGr', \n",
    "                'TotRmsAbvGrd', 'Fireplaces', 'GarageCars']),\n",
    "            'realMult': ([\n",
    "                'LotFrontage', 'LotArea', 'MasVnrArea',\n",
    "                'BsmtFinSF1', 'BsmtFinSF2', 'BsmtUnfSF',\n",
    "                'TotalBsmtSF', '1stFlrSF', '2ndFlrSF',\n",
    "                'LowQualFinSF', 'GrLivArea', 'GarageArea',\n",
    "                'WoodDeckSF', 'OpenPorchSF', 'EnclosedPorch',\n",
    "                '3SsnPorch', 'ScreenPorch', 'PoolArea', 'MiscVal']),\n",
    "            'binary': ([\n",
    "                'CentralAir']),\n",
    "            'realAdd': [],\n",
    "            'binomial': []\n",
    "            })\n",
    "        # Define encoding of ordinal categories to numeric\n",
    "        self._ordinalEncoding = ({\n",
    "            'Alley'       : {'None': 0, 'Grvl': 1, 'Pave': 2},\n",
    "            'BsmtCond'    : {'No': 0, 'Po': 1, 'Fa': 2, \n",
    "                             'TA': 3, 'Gd': 4, 'Ex': 5},\n",
    "            'BsmtExposure': {'No': 0, 'Mn': 1, 'Av': 2, 'Gd': 3},\n",
    "            'BsmtFinType1': {'No': 0, 'Unf': 1, 'LwQ': 2, 'Rec' : 3, \n",
    "                             'BLQ': 4, 'ALQ': 5, 'GLQ': 6},\n",
    "            'BsmtFinType2': {'No': 0, 'Unf': 1, 'LwQ': 2, 'Rec' : 3, \n",
    "                             'BLQ': 4, 'ALQ': 5, 'GLQ': 6},\n",
    "            'BsmtQual'    : {'No': 0, 'Po': 1, 'Fa': 2, \n",
    "                             'TA': 3, 'Gd': 4, 'Ex': 5},\n",
    "            'ExterCond'   : {'Po': 1, 'Fa': 2, 'TA': 3, 'Gd': 4, 'Ex': 5},\n",
    "            'ExterQual'   : {'Po': 1, 'Fa': 2, 'TA': 3, 'Gd': 4, 'Ex': 5},\n",
    "            'FireplaceQu' : {'No': 0, 'Po': 1, 'Fa': 2, \n",
    "                             'TA': 3, 'Gd': 4, 'Ex': 5},\n",
    "            'Functional'  : {'Sal': 1, 'Sev': 2, 'Maj2': 3, 'Maj1' : 4, \n",
    "                             'Mod': 5, 'Min2': 6, 'Min1': 7, 'Typ': 8},\n",
    "            'GarageCond'  : {'No': 0, 'Po': 1, 'Fa': 2, \n",
    "                             'TA': 3, 'Gd': 4, 'Ex': 5},\n",
    "            'GarageQual'  : {'No': 0, 'Po': 1, 'Fa': 2, \n",
    "                             'TA': 3, 'Gd': 4, 'Ex': 5},\n",
    "            'HeatingQC'   : {'Po': 1, 'Fa': 2, 'TA': 3, 'Gd': 4, 'Ex': 5},\n",
    "            'KitchenQual' : {'Po': 1, 'Fa': 2, 'TA': 3, 'Gd': 4, 'Ex': 5},\n",
    "            'LandSlope'   : {'Sev': 1, 'Mod': 2, 'Gtl': 3},\n",
    "            'LotShape'    : {'IR3': 1, 'IR2': 2, 'IR1': 3, 'Reg' : 4},\n",
    "            'PavedDrive'  : {'N': 0, 'P': 1, 'Y': 2},\n",
    "            'PoolQC'      : {'No': 0, 'Fa': 1, 'TA': 2, 'Gd': 3, 'Ex': 4},\n",
    "            'Street'      : {'Grvl': 1, 'Pave': 2},\n",
    "            'Utilities'   : {'ELO': 1, 'NoSeWa': 2, \n",
    "                             'NoSewr':  3, 'AllPub': 4},\n",
    "            'Fence'       : {'No': 0, 'MnWw': 1, 'GdWo': 2, \n",
    "                             'MnPrv': 3, 'GdPrv': 4},\n",
    "            'GarageFinish': {'No': 0, 'Unf': 1, 'RFn': 2, 'Fin': 3},\n",
    "            'OverallQual' : {},\n",
    "            'OverallCond' : {},\n",
    "        })\n",
    "\n",
    "        \n",
    "    def _allFeatures(self):\n",
    "        \"\"\" Return all values in features \"\"\"\n",
    "        return [ft for group in list(self._features.values()) for ft in group]\n",
    "\n",
    "    \n",
    "    def _assertValidFeatures(self):\n",
    "        \"\"\" Assert feature dictionary matches the input \"\"\"\n",
    "        assert sorted(self._allFeatures()) == sorted(list(self._X.columns))\n",
    "        \n",
    "        \n",
    "    def _remapOrdinal(self):\n",
    "        \"\"\" Perform remapping of ordinal strings to numeric \"\"\"\n",
    "        self._X = self._X.replace(self._ordinalEncoding)\n",
    "        \n",
    "        \n",
    "    def _updateFeatureDict(self, featureName, group):\n",
    "        assert featureName not in self._features.values()\n",
    "        self._features[group].append(featureName)\n",
    "        \n",
    "        \n",
    "    def _categoriesToString(self):\n",
    "        \"\"\" Ensure all categories are string. Add prefix to prevent\n",
    "            casting back to numeric. \"\"\"\n",
    "        for feature in self._features['categorical']:\n",
    "            self._X[feature] = 'str' + self._X[feature].astype(str)\n",
    "           \n",
    "        \n",
    "    def prepData(self, data):\n",
    "        self._X = data\n",
    "        self._remapOrdinal()\n",
    "        self._addFeatures()\n",
    "        self._categoriesToString()\n",
    "        self._assertValidFeatures()\n",
    "        self._prepared = True\n",
    "        return self._X\n",
    "    \n",
    "    \n",
    "    def getFeatures(self):\n",
    "        \"\"\" Return feature dictionary with updated categories \"\"\"\n",
    "        assert self._prepared, 'Must called prepData() method first'    \n",
    "        return self._features\n",
    "            \n",
    "            \n",
    "    def _addFeatures(self):\n",
    "        self._X['hasPool'] = (self._X['PoolArea'] > 1) * 1\n",
    "        self._updateFeatureDict('hasPool', 'binary')\n",
    "        self._X['has2ndfloor'] = (self._X['2ndFlrSF'] > 1) * 1\n",
    "        self._updateFeatureDict('has2ndfloor', 'binary')\n",
    "        self._X['hasgarage'] = (self._X['GarageArea'] > 1) * 1\n",
    "        self._updateFeatureDict('hasgarage', 'binary')\n",
    "        self._X['hasbsmt'] = (self._X['TotalBsmtSF'] > 1) * 1\n",
    "        self._updateFeatureDict('hasbsmt', 'binary')\n",
    "        self._X['hasfireplace'] = (self._X['Fireplaces'] > 1) * 1\n",
    "        self._updateFeatureDict('hasfireplace', 'binary')\n",
    "          "
   ]
  },
  {
   "cell_type": "code",
   "execution_count": 1301,
   "metadata": {},
   "outputs": [],
   "source": [
    "# Initiliase pre-model data processing\n",
    "processor = processHousePrices()"
   ]
  },
  {
   "cell_type": "code",
   "execution_count": 1302,
   "metadata": {},
   "outputs": [],
   "source": [
    "X = cleanData(pd.read_csv(trainData, index_col='Id'))\n",
    "y = X.pop('SalePrice')\n",
    "X = processor.prepData(X)\n",
    "features = processor.getFeatures()"
   ]
  },
  {
   "cell_type": "code",
   "execution_count": 1303,
   "metadata": {},
   "outputs": [],
   "source": [
    "split = train_test_split(X, y, random_state=0, train_size=0.8, test_size=0.2)\n",
    "X_train, X_valid, y_train, y_valid = map(lambda x: x.copy(), split)"
   ]
  },
  {
   "cell_type": "code",
   "execution_count": 1304,
   "metadata": {},
   "outputs": [],
   "source": [
    "realMultTransformer = Pipeline(steps=[\n",
    "    ('imputer', SimpleImputer()),\n",
    "    ('scaler',  RobustScaler()),\n",
    "    ('power',   PowerTransformer(method='yeo-johnson'))])\n",
    "countTransformer = Pipeline(steps=[\n",
    "    ('imputer', SimpleImputer()),\n",
    "    ('scaler',  RobustScaler())])\n",
    "categoryTransformer = Pipeline(steps=[\n",
    "    ('imputer', SimpleImputer()),\n",
    "    ('onehot' , OneHotEncoder(handle_unknown='ignore'))])\n",
    "ordinalTransfomer = Pipeline(steps=[\n",
    "    ('imputer', SimpleImputer())])"
   ]
  },
  {
   "cell_type": "code",
   "execution_count": 1305,
   "metadata": {},
   "outputs": [],
   "source": [
    "preprocessor = ColumnTransformer(transformers=[\n",
    "    ('realMult', realMultTransformer, features['realMult']),\n",
    "    ('count',    countTransformer,    features['count']),\n",
    "    ('category', categoryTransformer, features['categorical'] + features['binary']),\n",
    "    ('ordinal',  ordinalTransfomer,   features['ordinal'])])"
   ]
  },
  {
   "cell_type": "code",
   "execution_count": 1306,
   "metadata": {},
   "outputs": [],
   "source": [
    "# Define regressor and wrap around transformed target regressor\n",
    "regressor = XGBRegressor(n_jobs=4, random_state=0)\n",
    "model = TransformedTargetRegressor(\n",
    "    regressor=regressor, func=np.log1p, inverse_func=np.expm1)"
   ]
  },
  {
   "cell_type": "code",
   "execution_count": 1307,
   "metadata": {},
   "outputs": [],
   "source": [
    "clf = Pipeline(steps=[('preprocessor', preprocessor),\n",
    "                      ('classifier',   model)])"
   ]
  },
  {
   "cell_type": "code",
   "execution_count": 1310,
   "metadata": {},
   "outputs": [
    {
     "name": "stdout",
     "output_type": "stream",
     "text": [
      "Parameter combindations: 216\n"
     ]
    }
   ],
   "source": [
    "param_grid = {\n",
    "    'preprocessor__realMult__imputer__strategy': ['median', 'mean'],\n",
    "    'preprocessor__count__imputer__strategy':    ['median', 'most_frequent', 'constant'],\n",
    "    'preprocessor__category__imputer__strategy': ['constant', 'most_frequent'],\n",
    "    'preprocessor__ordinal__imputer__strategy':  ['constant', 'most_frequent'],\n",
    "    'classifier__regressor__n_estimators': [100, 500, 1000],\n",
    "    'classifier__regressor__learning_rate': [0.01, 0.05, 0.1]\n",
    "}\n",
    "print(f'Parameter combindations: {len(ParameterGrid(param_grid))}')"
   ]
  },
  {
   "cell_type": "code",
   "execution_count": 1311,
   "metadata": {},
   "outputs": [],
   "source": [
    "# Configure the cross-validation procedure\n",
    "cv = KFold(n_splits=12, shuffle=True, random_state=1)"
   ]
  },
  {
   "cell_type": "code",
   "execution_count": 1312,
   "metadata": {},
   "outputs": [],
   "source": [
    "grid_search = GridSearchCV(clf, param_grid, cv=cv, refit=True)"
   ]
  },
  {
   "cell_type": "code",
   "execution_count": 1313,
   "metadata": {},
   "outputs": [
    {
     "ename": "KeyboardInterrupt",
     "evalue": "",
     "output_type": "error",
     "traceback": [
      "\u001b[0;31m---------------------------------------------------------------------------\u001b[0m",
      "\u001b[0;31mKeyboardInterrupt\u001b[0m                         Traceback (most recent call last)",
      "\u001b[0;32m<ipython-input-1313-231b374c92ba>\u001b[0m in \u001b[0;36m<module>\u001b[0;34m\u001b[0m\n\u001b[0;32m----> 1\u001b[0;31m \u001b[0mgrid_search\u001b[0m\u001b[0;34m.\u001b[0m\u001b[0mfit\u001b[0m\u001b[0;34m(\u001b[0m\u001b[0mX_train\u001b[0m\u001b[0;34m,\u001b[0m \u001b[0my_train\u001b[0m\u001b[0;34m)\u001b[0m\u001b[0;34m\u001b[0m\u001b[0;34m\u001b[0m\u001b[0m\n\u001b[0m",
      "\u001b[0;32m~/anaconda3/lib/python3.7/site-packages/sklearn/utils/validation.py\u001b[0m in \u001b[0;36minner_f\u001b[0;34m(*args, **kwargs)\u001b[0m\n\u001b[1;32m     61\u001b[0m             \u001b[0mextra_args\u001b[0m \u001b[0;34m=\u001b[0m \u001b[0mlen\u001b[0m\u001b[0;34m(\u001b[0m\u001b[0margs\u001b[0m\u001b[0;34m)\u001b[0m \u001b[0;34m-\u001b[0m \u001b[0mlen\u001b[0m\u001b[0;34m(\u001b[0m\u001b[0mall_args\u001b[0m\u001b[0;34m)\u001b[0m\u001b[0;34m\u001b[0m\u001b[0;34m\u001b[0m\u001b[0m\n\u001b[1;32m     62\u001b[0m             \u001b[0;32mif\u001b[0m \u001b[0mextra_args\u001b[0m \u001b[0;34m<=\u001b[0m \u001b[0;36m0\u001b[0m\u001b[0;34m:\u001b[0m\u001b[0;34m\u001b[0m\u001b[0;34m\u001b[0m\u001b[0m\n\u001b[0;32m---> 63\u001b[0;31m                 \u001b[0;32mreturn\u001b[0m \u001b[0mf\u001b[0m\u001b[0;34m(\u001b[0m\u001b[0;34m*\u001b[0m\u001b[0margs\u001b[0m\u001b[0;34m,\u001b[0m \u001b[0;34m**\u001b[0m\u001b[0mkwargs\u001b[0m\u001b[0;34m)\u001b[0m\u001b[0;34m\u001b[0m\u001b[0;34m\u001b[0m\u001b[0m\n\u001b[0m\u001b[1;32m     64\u001b[0m \u001b[0;34m\u001b[0m\u001b[0m\n\u001b[1;32m     65\u001b[0m             \u001b[0;31m# extra_args > 0\u001b[0m\u001b[0;34m\u001b[0m\u001b[0;34m\u001b[0m\u001b[0;34m\u001b[0m\u001b[0m\n",
      "\u001b[0;32m~/anaconda3/lib/python3.7/site-packages/sklearn/model_selection/_search.py\u001b[0m in \u001b[0;36mfit\u001b[0;34m(self, X, y, groups, **fit_params)\u001b[0m\n\u001b[1;32m    839\u001b[0m                 \u001b[0;32mreturn\u001b[0m \u001b[0mresults\u001b[0m\u001b[0;34m\u001b[0m\u001b[0;34m\u001b[0m\u001b[0m\n\u001b[1;32m    840\u001b[0m \u001b[0;34m\u001b[0m\u001b[0m\n\u001b[0;32m--> 841\u001b[0;31m             \u001b[0mself\u001b[0m\u001b[0;34m.\u001b[0m\u001b[0m_run_search\u001b[0m\u001b[0;34m(\u001b[0m\u001b[0mevaluate_candidates\u001b[0m\u001b[0;34m)\u001b[0m\u001b[0;34m\u001b[0m\u001b[0;34m\u001b[0m\u001b[0m\n\u001b[0m\u001b[1;32m    842\u001b[0m \u001b[0;34m\u001b[0m\u001b[0m\n\u001b[1;32m    843\u001b[0m             \u001b[0;31m# multimetric is determined here because in the case of a callable\u001b[0m\u001b[0;34m\u001b[0m\u001b[0;34m\u001b[0m\u001b[0;34m\u001b[0m\u001b[0m\n",
      "\u001b[0;32m~/anaconda3/lib/python3.7/site-packages/sklearn/model_selection/_search.py\u001b[0m in \u001b[0;36m_run_search\u001b[0;34m(self, evaluate_candidates)\u001b[0m\n\u001b[1;32m   1286\u001b[0m     \u001b[0;32mdef\u001b[0m \u001b[0m_run_search\u001b[0m\u001b[0;34m(\u001b[0m\u001b[0mself\u001b[0m\u001b[0;34m,\u001b[0m \u001b[0mevaluate_candidates\u001b[0m\u001b[0;34m)\u001b[0m\u001b[0;34m:\u001b[0m\u001b[0;34m\u001b[0m\u001b[0;34m\u001b[0m\u001b[0m\n\u001b[1;32m   1287\u001b[0m         \u001b[0;34m\"\"\"Search all candidates in param_grid\"\"\"\u001b[0m\u001b[0;34m\u001b[0m\u001b[0;34m\u001b[0m\u001b[0m\n\u001b[0;32m-> 1288\u001b[0;31m         \u001b[0mevaluate_candidates\u001b[0m\u001b[0;34m(\u001b[0m\u001b[0mParameterGrid\u001b[0m\u001b[0;34m(\u001b[0m\u001b[0mself\u001b[0m\u001b[0;34m.\u001b[0m\u001b[0mparam_grid\u001b[0m\u001b[0;34m)\u001b[0m\u001b[0;34m)\u001b[0m\u001b[0;34m\u001b[0m\u001b[0;34m\u001b[0m\u001b[0m\n\u001b[0m\u001b[1;32m   1289\u001b[0m \u001b[0;34m\u001b[0m\u001b[0m\n\u001b[1;32m   1290\u001b[0m \u001b[0;34m\u001b[0m\u001b[0m\n",
      "\u001b[0;32m~/anaconda3/lib/python3.7/site-packages/sklearn/model_selection/_search.py\u001b[0m in \u001b[0;36mevaluate_candidates\u001b[0;34m(candidate_params, cv, more_results)\u001b[0m\n\u001b[1;32m    807\u001b[0m                                    (split_idx, (train, test)) in product(\n\u001b[1;32m    808\u001b[0m                                    \u001b[0menumerate\u001b[0m\u001b[0;34m(\u001b[0m\u001b[0mcandidate_params\u001b[0m\u001b[0;34m)\u001b[0m\u001b[0;34m,\u001b[0m\u001b[0;34m\u001b[0m\u001b[0;34m\u001b[0m\u001b[0m\n\u001b[0;32m--> 809\u001b[0;31m                                    enumerate(cv.split(X, y, groups))))\n\u001b[0m\u001b[1;32m    810\u001b[0m \u001b[0;34m\u001b[0m\u001b[0m\n\u001b[1;32m    811\u001b[0m                 \u001b[0;32mif\u001b[0m \u001b[0mlen\u001b[0m\u001b[0;34m(\u001b[0m\u001b[0mout\u001b[0m\u001b[0;34m)\u001b[0m \u001b[0;34m<\u001b[0m \u001b[0;36m1\u001b[0m\u001b[0;34m:\u001b[0m\u001b[0;34m\u001b[0m\u001b[0;34m\u001b[0m\u001b[0m\n",
      "\u001b[0;32m~/anaconda3/lib/python3.7/site-packages/joblib/parallel.py\u001b[0m in \u001b[0;36m__call__\u001b[0;34m(self, iterable)\u001b[0m\n\u001b[1;32m   1005\u001b[0m                 \u001b[0mself\u001b[0m\u001b[0;34m.\u001b[0m\u001b[0m_iterating\u001b[0m \u001b[0;34m=\u001b[0m \u001b[0mself\u001b[0m\u001b[0;34m.\u001b[0m\u001b[0m_original_iterator\u001b[0m \u001b[0;32mis\u001b[0m \u001b[0;32mnot\u001b[0m \u001b[0;32mNone\u001b[0m\u001b[0;34m\u001b[0m\u001b[0;34m\u001b[0m\u001b[0m\n\u001b[1;32m   1006\u001b[0m \u001b[0;34m\u001b[0m\u001b[0m\n\u001b[0;32m-> 1007\u001b[0;31m             \u001b[0;32mwhile\u001b[0m \u001b[0mself\u001b[0m\u001b[0;34m.\u001b[0m\u001b[0mdispatch_one_batch\u001b[0m\u001b[0;34m(\u001b[0m\u001b[0miterator\u001b[0m\u001b[0;34m)\u001b[0m\u001b[0;34m:\u001b[0m\u001b[0;34m\u001b[0m\u001b[0;34m\u001b[0m\u001b[0m\n\u001b[0m\u001b[1;32m   1008\u001b[0m                 \u001b[0;32mpass\u001b[0m\u001b[0;34m\u001b[0m\u001b[0;34m\u001b[0m\u001b[0m\n\u001b[1;32m   1009\u001b[0m \u001b[0;34m\u001b[0m\u001b[0m\n",
      "\u001b[0;32m~/anaconda3/lib/python3.7/site-packages/joblib/parallel.py\u001b[0m in \u001b[0;36mdispatch_one_batch\u001b[0;34m(self, iterator)\u001b[0m\n\u001b[1;32m    833\u001b[0m                 \u001b[0;32mreturn\u001b[0m \u001b[0;32mFalse\u001b[0m\u001b[0;34m\u001b[0m\u001b[0;34m\u001b[0m\u001b[0m\n\u001b[1;32m    834\u001b[0m             \u001b[0;32melse\u001b[0m\u001b[0;34m:\u001b[0m\u001b[0;34m\u001b[0m\u001b[0;34m\u001b[0m\u001b[0m\n\u001b[0;32m--> 835\u001b[0;31m                 \u001b[0mself\u001b[0m\u001b[0;34m.\u001b[0m\u001b[0m_dispatch\u001b[0m\u001b[0;34m(\u001b[0m\u001b[0mtasks\u001b[0m\u001b[0;34m)\u001b[0m\u001b[0;34m\u001b[0m\u001b[0;34m\u001b[0m\u001b[0m\n\u001b[0m\u001b[1;32m    836\u001b[0m                 \u001b[0;32mreturn\u001b[0m \u001b[0;32mTrue\u001b[0m\u001b[0;34m\u001b[0m\u001b[0;34m\u001b[0m\u001b[0m\n\u001b[1;32m    837\u001b[0m \u001b[0;34m\u001b[0m\u001b[0m\n",
      "\u001b[0;32m~/anaconda3/lib/python3.7/site-packages/joblib/parallel.py\u001b[0m in \u001b[0;36m_dispatch\u001b[0;34m(self, batch)\u001b[0m\n\u001b[1;32m    752\u001b[0m         \u001b[0;32mwith\u001b[0m \u001b[0mself\u001b[0m\u001b[0;34m.\u001b[0m\u001b[0m_lock\u001b[0m\u001b[0;34m:\u001b[0m\u001b[0;34m\u001b[0m\u001b[0;34m\u001b[0m\u001b[0m\n\u001b[1;32m    753\u001b[0m             \u001b[0mjob_idx\u001b[0m \u001b[0;34m=\u001b[0m \u001b[0mlen\u001b[0m\u001b[0;34m(\u001b[0m\u001b[0mself\u001b[0m\u001b[0;34m.\u001b[0m\u001b[0m_jobs\u001b[0m\u001b[0;34m)\u001b[0m\u001b[0;34m\u001b[0m\u001b[0;34m\u001b[0m\u001b[0m\n\u001b[0;32m--> 754\u001b[0;31m             \u001b[0mjob\u001b[0m \u001b[0;34m=\u001b[0m \u001b[0mself\u001b[0m\u001b[0;34m.\u001b[0m\u001b[0m_backend\u001b[0m\u001b[0;34m.\u001b[0m\u001b[0mapply_async\u001b[0m\u001b[0;34m(\u001b[0m\u001b[0mbatch\u001b[0m\u001b[0;34m,\u001b[0m \u001b[0mcallback\u001b[0m\u001b[0;34m=\u001b[0m\u001b[0mcb\u001b[0m\u001b[0;34m)\u001b[0m\u001b[0;34m\u001b[0m\u001b[0;34m\u001b[0m\u001b[0m\n\u001b[0m\u001b[1;32m    755\u001b[0m             \u001b[0;31m# A job can complete so quickly than its callback is\u001b[0m\u001b[0;34m\u001b[0m\u001b[0;34m\u001b[0m\u001b[0;34m\u001b[0m\u001b[0m\n\u001b[1;32m    756\u001b[0m             \u001b[0;31m# called before we get here, causing self._jobs to\u001b[0m\u001b[0;34m\u001b[0m\u001b[0;34m\u001b[0m\u001b[0;34m\u001b[0m\u001b[0m\n",
      "\u001b[0;32m~/anaconda3/lib/python3.7/site-packages/joblib/_parallel_backends.py\u001b[0m in \u001b[0;36mapply_async\u001b[0;34m(self, func, callback)\u001b[0m\n\u001b[1;32m    207\u001b[0m     \u001b[0;32mdef\u001b[0m \u001b[0mapply_async\u001b[0m\u001b[0;34m(\u001b[0m\u001b[0mself\u001b[0m\u001b[0;34m,\u001b[0m \u001b[0mfunc\u001b[0m\u001b[0;34m,\u001b[0m \u001b[0mcallback\u001b[0m\u001b[0;34m=\u001b[0m\u001b[0;32mNone\u001b[0m\u001b[0;34m)\u001b[0m\u001b[0;34m:\u001b[0m\u001b[0;34m\u001b[0m\u001b[0;34m\u001b[0m\u001b[0m\n\u001b[1;32m    208\u001b[0m         \u001b[0;34m\"\"\"Schedule a func to be run\"\"\"\u001b[0m\u001b[0;34m\u001b[0m\u001b[0;34m\u001b[0m\u001b[0m\n\u001b[0;32m--> 209\u001b[0;31m         \u001b[0mresult\u001b[0m \u001b[0;34m=\u001b[0m \u001b[0mImmediateResult\u001b[0m\u001b[0;34m(\u001b[0m\u001b[0mfunc\u001b[0m\u001b[0;34m)\u001b[0m\u001b[0;34m\u001b[0m\u001b[0;34m\u001b[0m\u001b[0m\n\u001b[0m\u001b[1;32m    210\u001b[0m         \u001b[0;32mif\u001b[0m \u001b[0mcallback\u001b[0m\u001b[0;34m:\u001b[0m\u001b[0;34m\u001b[0m\u001b[0;34m\u001b[0m\u001b[0m\n\u001b[1;32m    211\u001b[0m             \u001b[0mcallback\u001b[0m\u001b[0;34m(\u001b[0m\u001b[0mresult\u001b[0m\u001b[0;34m)\u001b[0m\u001b[0;34m\u001b[0m\u001b[0;34m\u001b[0m\u001b[0m\n",
      "\u001b[0;32m~/anaconda3/lib/python3.7/site-packages/joblib/_parallel_backends.py\u001b[0m in \u001b[0;36m__init__\u001b[0;34m(self, batch)\u001b[0m\n\u001b[1;32m    588\u001b[0m         \u001b[0;31m# Don't delay the application, to avoid keeping the input\u001b[0m\u001b[0;34m\u001b[0m\u001b[0;34m\u001b[0m\u001b[0;34m\u001b[0m\u001b[0m\n\u001b[1;32m    589\u001b[0m         \u001b[0;31m# arguments in memory\u001b[0m\u001b[0;34m\u001b[0m\u001b[0;34m\u001b[0m\u001b[0;34m\u001b[0m\u001b[0m\n\u001b[0;32m--> 590\u001b[0;31m         \u001b[0mself\u001b[0m\u001b[0;34m.\u001b[0m\u001b[0mresults\u001b[0m \u001b[0;34m=\u001b[0m \u001b[0mbatch\u001b[0m\u001b[0;34m(\u001b[0m\u001b[0;34m)\u001b[0m\u001b[0;34m\u001b[0m\u001b[0;34m\u001b[0m\u001b[0m\n\u001b[0m\u001b[1;32m    591\u001b[0m \u001b[0;34m\u001b[0m\u001b[0m\n\u001b[1;32m    592\u001b[0m     \u001b[0;32mdef\u001b[0m \u001b[0mget\u001b[0m\u001b[0;34m(\u001b[0m\u001b[0mself\u001b[0m\u001b[0;34m)\u001b[0m\u001b[0;34m:\u001b[0m\u001b[0;34m\u001b[0m\u001b[0;34m\u001b[0m\u001b[0m\n",
      "\u001b[0;32m~/anaconda3/lib/python3.7/site-packages/joblib/parallel.py\u001b[0m in \u001b[0;36m__call__\u001b[0;34m(self)\u001b[0m\n\u001b[1;32m    254\u001b[0m         \u001b[0;32mwith\u001b[0m \u001b[0mparallel_backend\u001b[0m\u001b[0;34m(\u001b[0m\u001b[0mself\u001b[0m\u001b[0;34m.\u001b[0m\u001b[0m_backend\u001b[0m\u001b[0;34m,\u001b[0m \u001b[0mn_jobs\u001b[0m\u001b[0;34m=\u001b[0m\u001b[0mself\u001b[0m\u001b[0;34m.\u001b[0m\u001b[0m_n_jobs\u001b[0m\u001b[0;34m)\u001b[0m\u001b[0;34m:\u001b[0m\u001b[0;34m\u001b[0m\u001b[0;34m\u001b[0m\u001b[0m\n\u001b[1;32m    255\u001b[0m             return [func(*args, **kwargs)\n\u001b[0;32m--> 256\u001b[0;31m                     for func, args, kwargs in self.items]\n\u001b[0m\u001b[1;32m    257\u001b[0m \u001b[0;34m\u001b[0m\u001b[0m\n\u001b[1;32m    258\u001b[0m     \u001b[0;32mdef\u001b[0m \u001b[0m__len__\u001b[0m\u001b[0;34m(\u001b[0m\u001b[0mself\u001b[0m\u001b[0;34m)\u001b[0m\u001b[0;34m:\u001b[0m\u001b[0;34m\u001b[0m\u001b[0;34m\u001b[0m\u001b[0m\n",
      "\u001b[0;32m~/anaconda3/lib/python3.7/site-packages/joblib/parallel.py\u001b[0m in \u001b[0;36m<listcomp>\u001b[0;34m(.0)\u001b[0m\n\u001b[1;32m    254\u001b[0m         \u001b[0;32mwith\u001b[0m \u001b[0mparallel_backend\u001b[0m\u001b[0;34m(\u001b[0m\u001b[0mself\u001b[0m\u001b[0;34m.\u001b[0m\u001b[0m_backend\u001b[0m\u001b[0;34m,\u001b[0m \u001b[0mn_jobs\u001b[0m\u001b[0;34m=\u001b[0m\u001b[0mself\u001b[0m\u001b[0;34m.\u001b[0m\u001b[0m_n_jobs\u001b[0m\u001b[0;34m)\u001b[0m\u001b[0;34m:\u001b[0m\u001b[0;34m\u001b[0m\u001b[0;34m\u001b[0m\u001b[0m\n\u001b[1;32m    255\u001b[0m             return [func(*args, **kwargs)\n\u001b[0;32m--> 256\u001b[0;31m                     for func, args, kwargs in self.items]\n\u001b[0m\u001b[1;32m    257\u001b[0m \u001b[0;34m\u001b[0m\u001b[0m\n\u001b[1;32m    258\u001b[0m     \u001b[0;32mdef\u001b[0m \u001b[0m__len__\u001b[0m\u001b[0;34m(\u001b[0m\u001b[0mself\u001b[0m\u001b[0;34m)\u001b[0m\u001b[0;34m:\u001b[0m\u001b[0;34m\u001b[0m\u001b[0;34m\u001b[0m\u001b[0m\n",
      "\u001b[0;32m~/anaconda3/lib/python3.7/site-packages/sklearn/utils/fixes.py\u001b[0m in \u001b[0;36m__call__\u001b[0;34m(self, *args, **kwargs)\u001b[0m\n\u001b[1;32m    220\u001b[0m     \u001b[0;32mdef\u001b[0m \u001b[0m__call__\u001b[0m\u001b[0;34m(\u001b[0m\u001b[0mself\u001b[0m\u001b[0;34m,\u001b[0m \u001b[0;34m*\u001b[0m\u001b[0margs\u001b[0m\u001b[0;34m,\u001b[0m \u001b[0;34m**\u001b[0m\u001b[0mkwargs\u001b[0m\u001b[0;34m)\u001b[0m\u001b[0;34m:\u001b[0m\u001b[0;34m\u001b[0m\u001b[0;34m\u001b[0m\u001b[0m\n\u001b[1;32m    221\u001b[0m         \u001b[0;32mwith\u001b[0m \u001b[0mconfig_context\u001b[0m\u001b[0;34m(\u001b[0m\u001b[0;34m**\u001b[0m\u001b[0mself\u001b[0m\u001b[0;34m.\u001b[0m\u001b[0mconfig\u001b[0m\u001b[0;34m)\u001b[0m\u001b[0;34m:\u001b[0m\u001b[0;34m\u001b[0m\u001b[0;34m\u001b[0m\u001b[0m\n\u001b[0;32m--> 222\u001b[0;31m             \u001b[0;32mreturn\u001b[0m \u001b[0mself\u001b[0m\u001b[0;34m.\u001b[0m\u001b[0mfunction\u001b[0m\u001b[0;34m(\u001b[0m\u001b[0;34m*\u001b[0m\u001b[0margs\u001b[0m\u001b[0;34m,\u001b[0m \u001b[0;34m**\u001b[0m\u001b[0mkwargs\u001b[0m\u001b[0;34m)\u001b[0m\u001b[0;34m\u001b[0m\u001b[0;34m\u001b[0m\u001b[0m\n\u001b[0m",
      "\u001b[0;32m~/anaconda3/lib/python3.7/site-packages/sklearn/model_selection/_validation.py\u001b[0m in \u001b[0;36m_fit_and_score\u001b[0;34m(estimator, X, y, scorer, train, test, verbose, parameters, fit_params, return_train_score, return_parameters, return_n_test_samples, return_times, return_estimator, split_progress, candidate_progress, error_score)\u001b[0m\n\u001b[1;32m    591\u001b[0m             \u001b[0mestimator\u001b[0m\u001b[0;34m.\u001b[0m\u001b[0mfit\u001b[0m\u001b[0;34m(\u001b[0m\u001b[0mX_train\u001b[0m\u001b[0;34m,\u001b[0m \u001b[0;34m**\u001b[0m\u001b[0mfit_params\u001b[0m\u001b[0;34m)\u001b[0m\u001b[0;34m\u001b[0m\u001b[0;34m\u001b[0m\u001b[0m\n\u001b[1;32m    592\u001b[0m         \u001b[0;32melse\u001b[0m\u001b[0;34m:\u001b[0m\u001b[0;34m\u001b[0m\u001b[0;34m\u001b[0m\u001b[0m\n\u001b[0;32m--> 593\u001b[0;31m             \u001b[0mestimator\u001b[0m\u001b[0;34m.\u001b[0m\u001b[0mfit\u001b[0m\u001b[0;34m(\u001b[0m\u001b[0mX_train\u001b[0m\u001b[0;34m,\u001b[0m \u001b[0my_train\u001b[0m\u001b[0;34m,\u001b[0m \u001b[0;34m**\u001b[0m\u001b[0mfit_params\u001b[0m\u001b[0;34m)\u001b[0m\u001b[0;34m\u001b[0m\u001b[0;34m\u001b[0m\u001b[0m\n\u001b[0m\u001b[1;32m    594\u001b[0m \u001b[0;34m\u001b[0m\u001b[0m\n\u001b[1;32m    595\u001b[0m     \u001b[0;32mexcept\u001b[0m \u001b[0mException\u001b[0m \u001b[0;32mas\u001b[0m \u001b[0me\u001b[0m\u001b[0;34m:\u001b[0m\u001b[0;34m\u001b[0m\u001b[0;34m\u001b[0m\u001b[0m\n",
      "\u001b[0;32m~/anaconda3/lib/python3.7/site-packages/sklearn/pipeline.py\u001b[0m in \u001b[0;36mfit\u001b[0;34m(self, X, y, **fit_params)\u001b[0m\n\u001b[1;32m    344\u001b[0m             \u001b[0;32mif\u001b[0m \u001b[0mself\u001b[0m\u001b[0;34m.\u001b[0m\u001b[0m_final_estimator\u001b[0m \u001b[0;34m!=\u001b[0m \u001b[0;34m'passthrough'\u001b[0m\u001b[0;34m:\u001b[0m\u001b[0;34m\u001b[0m\u001b[0;34m\u001b[0m\u001b[0m\n\u001b[1;32m    345\u001b[0m                 \u001b[0mfit_params_last_step\u001b[0m \u001b[0;34m=\u001b[0m \u001b[0mfit_params_steps\u001b[0m\u001b[0;34m[\u001b[0m\u001b[0mself\u001b[0m\u001b[0;34m.\u001b[0m\u001b[0msteps\u001b[0m\u001b[0;34m[\u001b[0m\u001b[0;34m-\u001b[0m\u001b[0;36m1\u001b[0m\u001b[0;34m]\u001b[0m\u001b[0;34m[\u001b[0m\u001b[0;36m0\u001b[0m\u001b[0;34m]\u001b[0m\u001b[0;34m]\u001b[0m\u001b[0;34m\u001b[0m\u001b[0;34m\u001b[0m\u001b[0m\n\u001b[0;32m--> 346\u001b[0;31m                 \u001b[0mself\u001b[0m\u001b[0;34m.\u001b[0m\u001b[0m_final_estimator\u001b[0m\u001b[0;34m.\u001b[0m\u001b[0mfit\u001b[0m\u001b[0;34m(\u001b[0m\u001b[0mXt\u001b[0m\u001b[0;34m,\u001b[0m \u001b[0my\u001b[0m\u001b[0;34m,\u001b[0m \u001b[0;34m**\u001b[0m\u001b[0mfit_params_last_step\u001b[0m\u001b[0;34m)\u001b[0m\u001b[0;34m\u001b[0m\u001b[0;34m\u001b[0m\u001b[0m\n\u001b[0m\u001b[1;32m    347\u001b[0m \u001b[0;34m\u001b[0m\u001b[0m\n\u001b[1;32m    348\u001b[0m         \u001b[0;32mreturn\u001b[0m \u001b[0mself\u001b[0m\u001b[0;34m\u001b[0m\u001b[0;34m\u001b[0m\u001b[0m\n",
      "\u001b[0;32m~/anaconda3/lib/python3.7/site-packages/sklearn/compose/_target.py\u001b[0m in \u001b[0;36mfit\u001b[0;34m(self, X, y, **fit_params)\u001b[0m\n\u001b[1;32m    205\u001b[0m             \u001b[0mself\u001b[0m\u001b[0;34m.\u001b[0m\u001b[0mregressor_\u001b[0m \u001b[0;34m=\u001b[0m \u001b[0mclone\u001b[0m\u001b[0;34m(\u001b[0m\u001b[0mself\u001b[0m\u001b[0;34m.\u001b[0m\u001b[0mregressor\u001b[0m\u001b[0;34m)\u001b[0m\u001b[0;34m\u001b[0m\u001b[0;34m\u001b[0m\u001b[0m\n\u001b[1;32m    206\u001b[0m \u001b[0;34m\u001b[0m\u001b[0m\n\u001b[0;32m--> 207\u001b[0;31m         \u001b[0mself\u001b[0m\u001b[0;34m.\u001b[0m\u001b[0mregressor_\u001b[0m\u001b[0;34m.\u001b[0m\u001b[0mfit\u001b[0m\u001b[0;34m(\u001b[0m\u001b[0mX\u001b[0m\u001b[0;34m,\u001b[0m \u001b[0my_trans\u001b[0m\u001b[0;34m,\u001b[0m \u001b[0;34m**\u001b[0m\u001b[0mfit_params\u001b[0m\u001b[0;34m)\u001b[0m\u001b[0;34m\u001b[0m\u001b[0;34m\u001b[0m\u001b[0m\n\u001b[0m\u001b[1;32m    208\u001b[0m \u001b[0;34m\u001b[0m\u001b[0m\n\u001b[1;32m    209\u001b[0m         \u001b[0;32mreturn\u001b[0m \u001b[0mself\u001b[0m\u001b[0;34m\u001b[0m\u001b[0;34m\u001b[0m\u001b[0m\n",
      "\u001b[0;32m~/anaconda3/lib/python3.7/site-packages/xgboost/core.py\u001b[0m in \u001b[0;36minner_f\u001b[0;34m(*args, **kwargs)\u001b[0m\n\u001b[1;32m    420\u001b[0m         \u001b[0;32mfor\u001b[0m \u001b[0mk\u001b[0m\u001b[0;34m,\u001b[0m \u001b[0marg\u001b[0m \u001b[0;32min\u001b[0m \u001b[0mzip\u001b[0m\u001b[0;34m(\u001b[0m\u001b[0msig\u001b[0m\u001b[0;34m.\u001b[0m\u001b[0mparameters\u001b[0m\u001b[0;34m,\u001b[0m \u001b[0margs\u001b[0m\u001b[0;34m)\u001b[0m\u001b[0;34m:\u001b[0m\u001b[0;34m\u001b[0m\u001b[0;34m\u001b[0m\u001b[0m\n\u001b[1;32m    421\u001b[0m             \u001b[0mkwargs\u001b[0m\u001b[0;34m[\u001b[0m\u001b[0mk\u001b[0m\u001b[0;34m]\u001b[0m \u001b[0;34m=\u001b[0m \u001b[0marg\u001b[0m\u001b[0;34m\u001b[0m\u001b[0;34m\u001b[0m\u001b[0m\n\u001b[0;32m--> 422\u001b[0;31m         \u001b[0;32mreturn\u001b[0m \u001b[0mf\u001b[0m\u001b[0;34m(\u001b[0m\u001b[0;34m**\u001b[0m\u001b[0mkwargs\u001b[0m\u001b[0;34m)\u001b[0m\u001b[0;34m\u001b[0m\u001b[0;34m\u001b[0m\u001b[0m\n\u001b[0m\u001b[1;32m    423\u001b[0m \u001b[0;34m\u001b[0m\u001b[0m\n\u001b[1;32m    424\u001b[0m     \u001b[0;32mreturn\u001b[0m \u001b[0minner_f\u001b[0m\u001b[0;34m\u001b[0m\u001b[0;34m\u001b[0m\u001b[0m\n",
      "\u001b[0;32m~/anaconda3/lib/python3.7/site-packages/xgboost/sklearn.py\u001b[0m in \u001b[0;36mfit\u001b[0;34m(self, X, y, sample_weight, base_margin, eval_set, eval_metric, early_stopping_rounds, verbose, xgb_model, sample_weight_eval_set, feature_weights, callbacks)\u001b[0m\n\u001b[1;32m    601\u001b[0m                               \u001b[0mobj\u001b[0m\u001b[0;34m=\u001b[0m\u001b[0mobj\u001b[0m\u001b[0;34m,\u001b[0m \u001b[0mfeval\u001b[0m\u001b[0;34m=\u001b[0m\u001b[0mfeval\u001b[0m\u001b[0;34m,\u001b[0m\u001b[0;34m\u001b[0m\u001b[0;34m\u001b[0m\u001b[0m\n\u001b[1;32m    602\u001b[0m                               \u001b[0mverbose_eval\u001b[0m\u001b[0;34m=\u001b[0m\u001b[0mverbose\u001b[0m\u001b[0;34m,\u001b[0m \u001b[0mxgb_model\u001b[0m\u001b[0;34m=\u001b[0m\u001b[0mxgb_model\u001b[0m\u001b[0;34m,\u001b[0m\u001b[0;34m\u001b[0m\u001b[0;34m\u001b[0m\u001b[0m\n\u001b[0;32m--> 603\u001b[0;31m                               callbacks=callbacks)\n\u001b[0m\u001b[1;32m    604\u001b[0m \u001b[0;34m\u001b[0m\u001b[0m\n\u001b[1;32m    605\u001b[0m         \u001b[0mself\u001b[0m\u001b[0;34m.\u001b[0m\u001b[0m_set_evaluation_result\u001b[0m\u001b[0;34m(\u001b[0m\u001b[0mevals_result\u001b[0m\u001b[0;34m)\u001b[0m\u001b[0;34m\u001b[0m\u001b[0;34m\u001b[0m\u001b[0m\n",
      "\u001b[0;32m~/anaconda3/lib/python3.7/site-packages/xgboost/training.py\u001b[0m in \u001b[0;36mtrain\u001b[0;34m(params, dtrain, num_boost_round, evals, obj, feval, maximize, early_stopping_rounds, evals_result, verbose_eval, xgb_model, callbacks)\u001b[0m\n\u001b[1;32m    233\u001b[0m                           \u001b[0mevals_result\u001b[0m\u001b[0;34m=\u001b[0m\u001b[0mevals_result\u001b[0m\u001b[0;34m,\u001b[0m\u001b[0;34m\u001b[0m\u001b[0;34m\u001b[0m\u001b[0m\n\u001b[1;32m    234\u001b[0m                           \u001b[0mmaximize\u001b[0m\u001b[0;34m=\u001b[0m\u001b[0mmaximize\u001b[0m\u001b[0;34m,\u001b[0m\u001b[0;34m\u001b[0m\u001b[0;34m\u001b[0m\u001b[0m\n\u001b[0;32m--> 235\u001b[0;31m                           early_stopping_rounds=early_stopping_rounds)\n\u001b[0m\u001b[1;32m    236\u001b[0m     \u001b[0;32mreturn\u001b[0m \u001b[0mbst\u001b[0m\u001b[0;34m\u001b[0m\u001b[0;34m\u001b[0m\u001b[0m\n\u001b[1;32m    237\u001b[0m \u001b[0;34m\u001b[0m\u001b[0m\n",
      "\u001b[0;32m~/anaconda3/lib/python3.7/site-packages/xgboost/training.py\u001b[0m in \u001b[0;36m_train_internal\u001b[0;34m(params, dtrain, num_boost_round, evals, obj, feval, xgb_model, callbacks, evals_result, maximize, verbose_eval, early_stopping_rounds)\u001b[0m\n\u001b[1;32m    100\u001b[0m         \u001b[0;31m# Skip the first update if it is a recovery step.\u001b[0m\u001b[0;34m\u001b[0m\u001b[0;34m\u001b[0m\u001b[0;34m\u001b[0m\u001b[0m\n\u001b[1;32m    101\u001b[0m         \u001b[0;32mif\u001b[0m \u001b[0mversion\u001b[0m \u001b[0;34m%\u001b[0m \u001b[0;36m2\u001b[0m \u001b[0;34m==\u001b[0m \u001b[0;36m0\u001b[0m\u001b[0;34m:\u001b[0m\u001b[0;34m\u001b[0m\u001b[0;34m\u001b[0m\u001b[0m\n\u001b[0;32m--> 102\u001b[0;31m             \u001b[0mbst\u001b[0m\u001b[0;34m.\u001b[0m\u001b[0mupdate\u001b[0m\u001b[0;34m(\u001b[0m\u001b[0mdtrain\u001b[0m\u001b[0;34m,\u001b[0m \u001b[0mi\u001b[0m\u001b[0;34m,\u001b[0m \u001b[0mobj\u001b[0m\u001b[0;34m)\u001b[0m\u001b[0;34m\u001b[0m\u001b[0;34m\u001b[0m\u001b[0m\n\u001b[0m\u001b[1;32m    103\u001b[0m             \u001b[0mbst\u001b[0m\u001b[0;34m.\u001b[0m\u001b[0msave_rabit_checkpoint\u001b[0m\u001b[0;34m(\u001b[0m\u001b[0;34m)\u001b[0m\u001b[0;34m\u001b[0m\u001b[0;34m\u001b[0m\u001b[0m\n\u001b[1;32m    104\u001b[0m             \u001b[0mversion\u001b[0m \u001b[0;34m+=\u001b[0m \u001b[0;36m1\u001b[0m\u001b[0;34m\u001b[0m\u001b[0;34m\u001b[0m\u001b[0m\n",
      "\u001b[0;32m~/anaconda3/lib/python3.7/site-packages/xgboost/core.py\u001b[0m in \u001b[0;36mupdate\u001b[0;34m(self, dtrain, iteration, fobj)\u001b[0m\n\u001b[1;32m   1280\u001b[0m             _check_call(_LIB.XGBoosterUpdateOneIter(self.handle,\n\u001b[1;32m   1281\u001b[0m                                                     \u001b[0mctypes\u001b[0m\u001b[0;34m.\u001b[0m\u001b[0mc_int\u001b[0m\u001b[0;34m(\u001b[0m\u001b[0miteration\u001b[0m\u001b[0;34m)\u001b[0m\u001b[0;34m,\u001b[0m\u001b[0;34m\u001b[0m\u001b[0;34m\u001b[0m\u001b[0m\n\u001b[0;32m-> 1282\u001b[0;31m                                                     dtrain.handle))\n\u001b[0m\u001b[1;32m   1283\u001b[0m         \u001b[0;32melse\u001b[0m\u001b[0;34m:\u001b[0m\u001b[0;34m\u001b[0m\u001b[0;34m\u001b[0m\u001b[0m\n\u001b[1;32m   1284\u001b[0m             \u001b[0mpred\u001b[0m \u001b[0;34m=\u001b[0m \u001b[0mself\u001b[0m\u001b[0;34m.\u001b[0m\u001b[0mpredict\u001b[0m\u001b[0;34m(\u001b[0m\u001b[0mdtrain\u001b[0m\u001b[0;34m,\u001b[0m \u001b[0moutput_margin\u001b[0m\u001b[0;34m=\u001b[0m\u001b[0;32mTrue\u001b[0m\u001b[0;34m,\u001b[0m \u001b[0mtraining\u001b[0m\u001b[0;34m=\u001b[0m\u001b[0;32mTrue\u001b[0m\u001b[0;34m)\u001b[0m\u001b[0;34m\u001b[0m\u001b[0;34m\u001b[0m\u001b[0m\n",
      "\u001b[0;31mKeyboardInterrupt\u001b[0m: "
     ]
    }
   ],
   "source": [
    "grid_search.fit(X_train, y_train)"
   ]
  },
  {
   "cell_type": "code",
   "execution_count": 1289,
   "metadata": {},
   "outputs": [
    {
     "name": "stdout",
     "output_type": "stream",
     "text": [
      "{'classifier__regressor__learning_rate': 0.01, 'classifier__regressor__n_estimators': 100, 'preprocessor__category__imputer__strategy': 'constant', 'preprocessor__count__imputer__strategy': 'median', 'preprocessor__ordinal__imputer__strategy': 'constant', 'preprocessor__realMult__imputer__strategy': 'median'}\n"
     ]
    }
   ],
   "source": [
    "best_params = grid_search.best_params_\n",
    "print(best_params)"
   ]
  },
  {
   "cell_type": "code",
   "execution_count": 1299,
   "metadata": {},
   "outputs": [
    {
     "name": "stdout",
     "output_type": "stream",
     "text": [
      "0.10777563884089711\n"
     ]
    }
   ],
   "source": [
    "preds = grid_search.predict(X_valid)\n",
    "print(mean_squared_error(np.log(y_valid), np.log(preds), squared=False))\n",
    "\n",
    "output = pd.DataFrame({'Id': X_valid.index,\n",
    "                       'SalePrice': preds})\n",
    "output\n",
    "output.to_csv('submission.csv', index=False)"
   ]
  },
  {
   "cell_type": "code",
   "execution_count": 1294,
   "metadata": {},
   "outputs": [
    {
     "data": {
      "text/plain": [
       "array([2629.2698, 2895.705 , 2895.705 , 2803.452 , 2895.705 , 2829.9473,\n",
       "       2895.705 , 2206.056 , 2235.8147, 2153.3088, 2895.705 , 2895.705 ,\n",
       "       2441.7085, 2829.9473, 2391.053 , 2629.2698, 2266.2278, 2886.4766,\n",
       "       2105.5117, 2895.705 , 2218.2944, 2153.3088, 2153.3088, 2160.288 ,\n",
       "       2829.9473, 2228.6885, 2398.6982, 2150.1196, 2895.705 , 2829.9473,\n",
       "       2829.9473, 2444.214 , 2829.9473, 2426.2603, 2469.7625, 2153.3088,\n",
       "       2105.5117, 2105.5117, 2398.6982, 2112.2444, 2449.622 , 2153.3088,\n",
       "       2325.0823, 2306.864 , 2829.9473, 2728.857 , 2105.5117, 2179.1243,\n",
       "       2153.3088, 2785.49  , 2179.2188, 2895.705 , 2895.705 , 2789.0054,\n",
       "       2533.6082, 2105.5117, 2895.705 , 2895.705 , 2112.336 , 2268.5522,\n",
       "       2172.1785, 2301.9238, 2153.3088, 2481.0479, 2398.8022, 2469.7625,\n",
       "       2112.2444, 2143.3472, 2153.3088, 2829.9473, 2670.4165, 2829.9473,\n",
       "       2489.0886, 2829.9473, 2186.187 , 2748.6426, 2306.864 , 2112.2444,\n",
       "       2143.2664, 2112.336 , 2359.23  , 2731.0317, 2731.0564, 2143.2664,\n",
       "       2186.187 , 2112.2444, 2273.5728, 2143.2664, 2153.3088, 2105.5117,\n",
       "       2391.053 , 2829.9473, 2433.9263, 2886.351 , 2153.3088, 2673.218 ,\n",
       "       2105.5117, 2895.705 , 2153.3088, 2153.3088, 2301.9556, 2105.5117,\n",
       "       2387.6165, 2105.5117, 2153.3088, 2820.9282, 2153.3088, 2679.071 ,\n",
       "       2829.9473, 2301.9556, 2332.618 , 2406.4722, 2235.8147, 2225.3875,\n",
       "       2895.705 , 2153.3088, 2398.8022, 2105.5117, 2374.444 , 2620.89  ,\n",
       "       2153.3088, 2160.1943, 2105.5117, 2112.2444, 2449.622 , 2105.5117,\n",
       "       2895.705 , 2119.0903, 2167.1958, 2820.9282, 2820.9282, 2275.9048,\n",
       "       2441.7085, 2553.7285, 2153.3088, 2112.336 , 2820.9282, 2886.4766,\n",
       "       2895.705 , 2829.9473, 2329.801 , 2112.2444, 2406.4722, 2105.5117,\n",
       "       2820.9282, 2797.9224, 2221.4883, 2281.1917, 2345.4565, 2895.705 ,\n",
       "       2199.0244, 2186.187 , 2895.705 , 2820.9282, 2895.705 , 2266.2278,\n",
       "       2477.6592, 2629.2698, 2629.2698, 2273.474 , 2895.705 , 2172.1785,\n",
       "       2895.705 , 2406.4722, 2820.9282, 2221.4883, 2221.4883, 2895.705 ,\n",
       "       2820.9282, 2820.9282, 2895.705 , 2895.705 , 2218.1982, 2112.336 ,\n",
       "       2153.3088, 2612.4233, 2177.957 , 2441.8147, 2112.2444, 2105.5117,\n",
       "       2228.5918, 2160.288 , 2629.2698, 2629.2698, 2112.2444, 2398.8022,\n",
       "       2418.4224, 2112.2444, 2112.336 , 2325.0823, 2181.7798, 2273.474 ,\n",
       "       2325.0823, 2228.6885, 2886.4766, 2449.622 , 2172.1785, 2198.929 ,\n",
       "       2820.9282, 2811.8157, 2895.705 , 2895.705 , 2865.7524, 2150.1196,\n",
       "       2398.8022, 2895.705 , 2895.705 , 2143.2664, 2258.0264, 2629.2698,\n",
       "       2221.4883, 2294.6187, 2553.7285, 2789.0054, 2477.6592, 2779.996 ,\n",
       "       2105.5117, 2167.1958, 2105.5117, 2235.8147, 2690.3662, 2391.053 ,\n",
       "       2172.1785, 2167.1958, 2105.5117, 2374.444 , 2105.5117, 2228.5918,\n",
       "       2398.6982, 2820.9282, 2235.8147, 2153.3088, 2391.053 , 2391.053 ,\n",
       "       2167.1958, 2739.7883, 2325.0823, 2820.9282, 2153.3088, 2895.705 ,\n",
       "       2391.053 , 2629.2698, 2143.2664, 2895.705 , 2228.6885, 2160.1943,\n",
       "       2820.9282, 2895.705 , 2886.4766, 2895.705 , 2332.618 , 2266.2278,\n",
       "       2167.1958, 2788.8843, 2895.705 , 2829.9473, 2345.4565, 2228.5918,\n",
       "       2105.5117, 2105.5117, 2112.336 , 2711.3728, 2820.9282, 2172.1785,\n",
       "       2398.6982, 2337.981 , 2441.8147, 2153.3088, 2444.214 , 2820.9282,\n",
       "       2820.9282, 2748.6426, 2105.5117, 2167.1958, 2758.1987, 2153.3088,\n",
       "       2345.4565, 2325.1833, 2895.705 , 2179.1243, 2194.023 , 2895.705 ,\n",
       "       2105.5117, 2337.981 , 2221.4883, 2153.3088, 2820.9282, 2441.8147,\n",
       "       2351.799 , 2235.8147, 2895.705 , 2105.5117], dtype=float32)"
      ]
     },
     "execution_count": 1294,
     "metadata": {},
     "output_type": "execute_result"
    }
   ],
   "source": [
    "preds"
   ]
  },
  {
   "cell_type": "code",
   "execution_count": 838,
   "metadata": {},
   "outputs": [],
   "source": [
    "    if False:\n",
    "        X['Alley'] = X['Alley'].fillna('None')\n",
    "        # BedroomAbvGr : NA most likely means 0\n",
    "        X['BedroomAbvGr'] = X['BedroomAbvGr'].fillna(0)\n",
    "        # BsmtQual etc : data description says NA for basement features is 'no basement'\n",
    "        X['BsmtQual'] = X['BsmtQual'].fillna('No')\n",
    "        X['BsmtCond'] = X['BsmtCond'].fillna('No')\n",
    "        X['BsmtExposure'] = X['BsmtExposure'].fillna('No')\n",
    "        X['BsmtFinType1'] = X['BsmtFinType1'].fillna('No')\n",
    "        X['BsmtFinType2'] = X['BsmtFinType2'].fillna('No')\n",
    "        X['BsmtFullBath'] = X['BsmtFullBath'].fillna(0)\n",
    "        X['BsmtHalfBath'] = X['BsmtHalfBath'].fillna(0)\n",
    "        X['BsmtUnfSF'] = X['BsmtUnfSF'].fillna(0)\n",
    "        # CentralAir : NA most likely means No\n",
    "        X['CentralAir'] = X['CentralAir'].fillna('N')\n",
    "        # Condition : NA most likely means Normal\n",
    "        X['Condition1'] = X['Condition1'].fillna('Norm')\n",
    "        X['Condition2'] = X['Condition2'].fillna('Norm')\n",
    "        # EnclosedPorch : NA most likely means no enclosed porch\n",
    "        X['EnclosedPorch'] = X['EnclosedPorch'].fillna(0)\n",
    "        # External stuff : NA most likely means average\n",
    "        X['ExterCond'] = X['ExterCond'].fillna('TA')\n",
    "        X['ExterQual'] = X['ExterQual'].fillna('TA')\n",
    "        # Fence : data description says NA means 'no fence'\n",
    "        X['Fence'] = X['Fence'].fillna('No')\n",
    "        # FireplaceQu : data description says NA means 'no fireplace'\n",
    "        X['FireplaceQu'] = X['FireplaceQu'].fillna('No')\n",
    "        X['Fireplaces'] = X['Fireplaces'].fillna(0)\n",
    "        # Functional : data description says NA means typical\n",
    "        X['Functional'] = X['Functional'].fillna('Typ')\n",
    "        # GarageType etc : data description says NA for garage features is 'no garage'\n",
    "        X['GarageType'] = X['GarageType'].fillna('No')\n",
    "        X['GarageFinish'] = X['GarageFinish'].fillna('No')\n",
    "        X['GarageQual'] = X['GarageQual'].fillna('No')\n",
    "        X['GarageCond'] = X['GarageCond'].fillna('No')\n",
    "        X['GarageArea'] = X['GarageArea'].fillna(0)\n",
    "        X['GarageCars'] = X['GarageCars'].fillna(0)\n",
    "        # HalfBath : NA most likely means no half baths above grade\n",
    "        X['HalfBath'] = X['HalfBath'].fillna(0)\n",
    "        # HeatingQC : NA most likely means typical\n",
    "        X['HeatingQC'] = X['HeatingQC'].fillna('TA')\n",
    "        # KitchenAbvGr : NA most likely means 0\n",
    "        X['KitchenAbvGr'] = X['KitchenAbvGr'].fillna(0)\n",
    "        # KitchenQual : NA most likely means typical\n",
    "        X['KitchenQual'] = X['KitchenQual'].fillna('TA')\n",
    "        # LotFrontage : NA most likely means no lot frontage\n",
    "        X['LotFrontage'] = X['LotFrontage'].fillna(0)\n",
    "        # LotShape : NA most likely means regular\n",
    "        X['LotShape'] = X['LotShape'].fillna('Reg')\n",
    "        # MasVnrType : NA most likely means no veneer\n",
    "        X['MasVnrType'] = X['MasVnrType'].fillna('None')\n",
    "        X['MasVnrArea'] = X['MasVnrArea'].fillna(0)\n",
    "        # MiscFeature : data description says NA means 'no misc feature'\n",
    "        X['MiscFeature'] = X['MiscFeature'].fillna('No')\n",
    "        X['MiscVal'] = X['MiscVal'].fillna(0)\n",
    "        # OpenPorchSF : NA most likely means no open porch\n",
    "        X['OpenPorchSF'] = X['OpenPorchSF'].fillna(0)\n",
    "        # PavedDrive : NA most likely means not paved\n",
    "        X['PavedDrive'] = X['PavedDrive'].fillna('N')\n",
    "        # PoolQC : data description says NA means 'no pool'\n",
    "        X['PoolQC'] = X['PoolQC'].fillna('No')\n",
    "        X['PoolArea'] = X['PoolArea'].fillna(0)\n",
    "        # SaleCondition : NA most likely means normal sale\n",
    "        X['SaleCondition'] = X['SaleCondition'].fillna('Normal')\n",
    "        # ScreenPorch : NA most likely means no screen porch\n",
    "        X['ScreenPorch'] = X['ScreenPorch'].fillna(0)\n",
    "        # TotRmsAbvGrd : NA most likely means 0\n",
    "        X['TotRmsAbvGrd'] = X['TotRmsAbvGrd'].fillna(0)\n",
    "        # Utilities : NA most likely means all public utilities\n",
    "        X['Utilities'] = X['Utilities'].fillna('AllPub')\n",
    "        # WoodDeckSF : NA most likely means no wood deck\n",
    "        X['WoodDeckSF'] = X['WoodDeckSF'].fillna(0)"
   ]
  },
  {
   "cell_type": "code",
   "execution_count": null,
   "metadata": {},
   "outputs": [],
   "source": []
  }
 ],
 "metadata": {
  "kernelspec": {
   "display_name": "Python 3",
   "language": "python",
   "name": "python3"
  },
  "language_info": {
   "codemirror_mode": {
    "name": "ipython",
    "version": 3
   },
   "file_extension": ".py",
   "mimetype": "text/x-python",
   "name": "python",
   "nbconvert_exporter": "python",
   "pygments_lexer": "ipython3",
   "version": "3.7.3"
  }
 },
 "nbformat": 4,
 "nbformat_minor": 4
}
