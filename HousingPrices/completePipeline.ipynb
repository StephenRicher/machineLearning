{
 "cells": [
  {
   "cell_type": "code",
   "execution_count": null,
   "metadata": {},
   "outputs": [],
   "source": [
    "import numpy as np\n",
    "import pandas as pd\n",
    "from sklearn.model_selection import train_test_split\n",
    "from sklearn.compose import ColumnTransformer\n",
    "from sklearn.datasets import fetch_openml\n",
    "from sklearn.pipeline import Pipeline\n",
    "from sklearn.impute import SimpleImputer\n",
    "from sklearn.preprocessing import StandardScaler, OneHotEncoder, RobustScaler, PowerTransformer\n",
    "from sklearn.linear_model import LogisticRegression\n",
    "from sklearn.model_selection import train_test_split, GridSearchCV\n",
    "from sklearn.compose import make_column_selector as selector\n",
    "from sklearn.metrics import mean_absolute_error, mean_squared_error\n",
    "from sklearn.ensemble import RandomForestRegressor\n",
    "from sklearn import set_config\n",
    "from xgboost import XGBRegressor\n",
    "from sklearn.compose import TransformedTargetRegressor\n",
    "from sklearn.model_selection import KFold\n",
    "from sklearn.preprocessing import FunctionTransformer\n",
    "from sklearn.preprocessing import OrdinalEncoder\n",
    "from sklearn.model_selection import ParameterGrid\n",
    "from sklearn.feature_selection import SelectKBest, chi2, SelectFromModel\n",
    "from sklearn.tree import DecisionTreeClassifier"
   ]
  },
  {
   "cell_type": "code",
   "execution_count": null,
   "metadata": {},
   "outputs": [],
   "source": [
    "set_config(display='diagram')"
   ]
  },
  {
   "cell_type": "code",
   "execution_count": null,
   "metadata": {},
   "outputs": [],
   "source": [
    "trainData = 'train.csv'\n",
    "testData = 'test.csv'\n",
    "index_col = 'Id'\n",
    "target_col = 'SalePrice'"
   ]
  },
  {
   "cell_type": "code",
   "execution_count": null,
   "metadata": {},
   "outputs": [],
   "source": [
    "def cleanData(X):\n",
    "    \"\"\" Handle outlier remove outside of Pipeline \"\"\"\n",
    "    X = X[X['GrLivArea'] < 4000]\n",
    "    return X"
   ]
  },
  {
   "cell_type": "code",
   "execution_count": null,
   "metadata": {},
   "outputs": [],
   "source": [
    "class processHousePrices:\n",
    "    \n",
    "    def __init__(self):\n",
    "        self._prepared = False\n",
    "        # Store each feature in a defined group\n",
    "        self._features = ({\n",
    "            'categorical': ([\n",
    "                'MSSubClass', 'MSZoning', 'Street', 'Alley', 'LotShape',  \n",
    "                'LandContour', 'Utilities', 'LotConfig', 'Neighborhood', \n",
    "                'Condition1', 'Condition2', 'BldgType', 'HouseStyle', \n",
    "                'RoofStyle', 'RoofMatl', 'Exterior1st', 'Exterior2nd', \n",
    "                'MasVnrType', 'Foundation', 'Heating', 'Electrical', \n",
    "                'GarageType', 'GarageYrBlt', 'YearBuilt', 'MiscFeature', \n",
    "                'MoSold', 'YrSold', 'SaleType', 'SaleCondition', \n",
    "                'YearRemodAdd']),\n",
    "            'ordinal': ([\n",
    "                'LandSlope', 'OverallQual', 'ExterQual', 'ExterCond', \n",
    "                'BsmtQual', 'BsmtCond', 'BsmtExposure', 'BsmtFinType1', \n",
    "                'BsmtFinType2', 'HeatingQC', 'KitchenQual', 'Functional', \n",
    "                'FireplaceQu', 'GarageFinish', 'GarageQual', 'GarageCond', \n",
    "                'PavedDrive', 'PoolQC', 'Fence', 'OverallCond']),\n",
    "            'count': ([\n",
    "                'BsmtFullBath', 'BsmtHalfBath', 'FullBath', \n",
    "                'HalfBath', 'BedroomAbvGr', 'KitchenAbvGr', \n",
    "                'TotRmsAbvGrd', 'Fireplaces', 'GarageCars']),\n",
    "            'realMult': ([\n",
    "                'LotFrontage', 'LotArea', 'MasVnrArea',\n",
    "                'BsmtFinSF1', 'BsmtFinSF2', 'BsmtUnfSF',\n",
    "                'TotalBsmtSF', '1stFlrSF', '2ndFlrSF',\n",
    "                'LowQualFinSF', 'GrLivArea', 'GarageArea',\n",
    "                'WoodDeckSF', 'OpenPorchSF', 'EnclosedPorch',\n",
    "                '3SsnPorch', 'ScreenPorch', 'PoolArea', 'MiscVal']),\n",
    "            'binary': ([\n",
    "                'CentralAir']),\n",
    "            'realAdd': [],\n",
    "            'binomial': []\n",
    "            })\n",
    "        # Define encoding of ordinal categories to numeric\n",
    "        self._ordinalEncoding = ({\n",
    "            'Alley'       : {'None': 0, 'Grvl': 1, 'Pave': 2},\n",
    "            'BsmtCond'    : {'No': 0, 'Po': 1, 'Fa': 2, \n",
    "                             'TA': 3, 'Gd': 4, 'Ex': 5},\n",
    "            'BsmtExposure': {'No': 0, 'Mn': 1, 'Av': 2, 'Gd': 3},\n",
    "            'BsmtFinType1': {'No': 0, 'Unf': 1, 'LwQ': 2, 'Rec' : 3, \n",
    "                             'BLQ': 4, 'ALQ': 5, 'GLQ': 6},\n",
    "            'BsmtFinType2': {'No': 0, 'Unf': 1, 'LwQ': 2, 'Rec' : 3, \n",
    "                             'BLQ': 4, 'ALQ': 5, 'GLQ': 6},\n",
    "            'BsmtQual'    : {'No': 0, 'Po': 1, 'Fa': 2, \n",
    "                             'TA': 3, 'Gd': 4, 'Ex': 5},\n",
    "            'ExterCond'   : {'Po': 1, 'Fa': 2, 'TA': 3, 'Gd': 4, 'Ex': 5},\n",
    "            'ExterQual'   : {'Po': 1, 'Fa': 2, 'TA': 3, 'Gd': 4, 'Ex': 5},\n",
    "            'FireplaceQu' : {'No': 0, 'Po': 1, 'Fa': 2, \n",
    "                             'TA': 3, 'Gd': 4, 'Ex': 5},\n",
    "            'Functional'  : {'Sal': 1, 'Sev': 2, 'Maj2': 3, 'Maj1' : 4, \n",
    "                             'Mod': 5, 'Min2': 6, 'Min1': 7, 'Typ': 8},\n",
    "            'GarageCond'  : {'No': 0, 'Po': 1, 'Fa': 2, \n",
    "                             'TA': 3, 'Gd': 4, 'Ex': 5},\n",
    "            'GarageQual'  : {'No': 0, 'Po': 1, 'Fa': 2, \n",
    "                             'TA': 3, 'Gd': 4, 'Ex': 5},\n",
    "            'HeatingQC'   : {'Po': 1, 'Fa': 2, 'TA': 3, 'Gd': 4, 'Ex': 5},\n",
    "            'KitchenQual' : {'Po': 1, 'Fa': 2, 'TA': 3, 'Gd': 4, 'Ex': 5},\n",
    "            'LandSlope'   : {'Sev': 1, 'Mod': 2, 'Gtl': 3},\n",
    "            'LotShape'    : {'IR3': 1, 'IR2': 2, 'IR1': 3, 'Reg' : 4},\n",
    "            'PavedDrive'  : {'N': 0, 'P': 1, 'Y': 2},\n",
    "            'PoolQC'      : {'No': 0, 'Fa': 1, 'TA': 2, 'Gd': 3, 'Ex': 4},\n",
    "            'Street'      : {'Grvl': 1, 'Pave': 2},\n",
    "            'Utilities'   : {'ELO': 1, 'NoSeWa': 2, \n",
    "                             'NoSewr':  3, 'AllPub': 4},\n",
    "            'Fence'       : {'No': 0, 'MnWw': 1, 'GdWo': 2, \n",
    "                             'MnPrv': 3, 'GdPrv': 4},\n",
    "            'GarageFinish': {'No': 0, 'Unf': 1, 'RFn': 2, 'Fin': 3},\n",
    "            'OverallQual' : {},\n",
    "            'OverallCond' : {},\n",
    "        })\n",
    "\n",
    "        \n",
    "    def _allFeatures(self):\n",
    "        \"\"\" Return all values in features \"\"\"\n",
    "        return [ft for group in list(self._features.values()) for ft in group]\n",
    "\n",
    "    \n",
    "    def _assertValidFeatures(self):\n",
    "        \"\"\" Assert feature dictionary matches the input \"\"\"\n",
    "        assert sorted(self._allFeatures()) == sorted(list(self._X.columns))\n",
    "        \n",
    "        \n",
    "    def _remapOrdinal(self):\n",
    "        \"\"\" Perform remapping of ordinal strings to numeric \"\"\"\n",
    "        self._X = self._X.replace(self._ordinalEncoding)\n",
    "        \n",
    "        \n",
    "    def _updateFeatureDict(self, featureName, group):\n",
    "        assert featureName not in self._features.values()\n",
    "        self._features[group].append(featureName)\n",
    "        \n",
    "        \n",
    "    def _categoriesToString(self):\n",
    "        \"\"\" Ensure all categories are string. Add prefix to prevent\n",
    "            casting back to numeric. \"\"\"\n",
    "        for feature in self._features['categorical']:\n",
    "            self._X[feature] = 'str' + self._X[feature].astype(str)\n",
    "           \n",
    "        \n",
    "    def prepData(self, data):\n",
    "        self._X = data\n",
    "        self._remapOrdinal()\n",
    "        self._addFeatures()\n",
    "        self._categoriesToString()\n",
    "        self._assertValidFeatures()\n",
    "        self._prepared = True\n",
    "        return self._X\n",
    "    \n",
    "    \n",
    "    def getFeatures(self):\n",
    "        \"\"\" Return feature dictionary with updated categories \"\"\"\n",
    "        assert self._prepared, 'Must called prepData() method first'    \n",
    "        return self._features\n",
    "            \n",
    "            \n",
    "    def _addFeatures(self):\n",
    "        self._X['hasPool'] = (self._X['PoolArea'] > 1) * 1\n",
    "        self._updateFeatureDict('hasPool', 'binary')\n",
    "        self._X['has2ndfloor'] = (self._X['2ndFlrSF'] > 1) * 1\n",
    "        self._updateFeatureDict('has2ndfloor', 'binary')\n",
    "        self._X['hasgarage'] = (self._X['GarageArea'] > 1) * 1\n",
    "        self._updateFeatureDict('hasgarage', 'binary')\n",
    "        self._X['hasbsmt'] = (self._X['TotalBsmtSF'] > 1) * 1\n",
    "        self._updateFeatureDict('hasbsmt', 'binary')\n",
    "        self._X['hasfireplace'] = (self._X['Fireplaces'] > 1) * 1\n",
    "        self._updateFeatureDict('hasfireplace', 'binary')\n",
    "          "
   ]
  },
  {
   "cell_type": "code",
   "execution_count": null,
   "metadata": {},
   "outputs": [],
   "source": [
    "# Initiliase pre-model data processing\n",
    "processor = processHousePrices()"
   ]
  },
  {
   "cell_type": "code",
   "execution_count": null,
   "metadata": {},
   "outputs": [],
   "source": [
    "X = cleanData(pd.read_csv(trainData, index_col='Id'))\n",
    "y = X.pop('SalePrice')\n",
    "X = processor.prepData(X)\n",
    "features = processor.getFeatures()"
   ]
  },
  {
   "cell_type": "code",
   "execution_count": null,
   "metadata": {},
   "outputs": [],
   "source": [
    "split = train_test_split(X, y, random_state=0, train_size=0.8, test_size=0.2)\n",
    "X_train, X_valid, y_train, y_valid = map(lambda x: x.copy(), split)"
   ]
  },
  {
   "cell_type": "code",
   "execution_count": null,
   "metadata": {},
   "outputs": [],
   "source": [
    "realMultTransformer = Pipeline(steps=[\n",
    "    ('imputer', SimpleImputer()),\n",
    "    ('scaler',  RobustScaler()),\n",
    "    ('power',   PowerTransformer(method='yeo-johnson'))])\n",
    "countTransformer = Pipeline(steps=[\n",
    "    ('imputer', SimpleImputer()),\n",
    "    ('scaler',  RobustScaler())])\n",
    "categoryTransformer = Pipeline(steps=[\n",
    "    ('imputer', SimpleImputer()),\n",
    "    ('onehot' , OneHotEncoder(handle_unknown='ignore'))])\n",
    "ordinalTransfomer = Pipeline(steps=[\n",
    "    ('imputer', SimpleImputer())])"
   ]
  },
  {
   "cell_type": "code",
   "execution_count": null,
   "metadata": {},
   "outputs": [],
   "source": [
    "preprocessor = ColumnTransformer(transformers=[\n",
    "    ('realMult', realMultTransformer, features['realMult']),\n",
    "    ('count',    countTransformer,    features['count']),\n",
    "    ('category', categoryTransformer, features['categorical'] + features['binary']),\n",
    "    ('ordinal',  ordinalTransfomer,   features['ordinal'])])"
   ]
  },
  {
   "cell_type": "code",
   "execution_count": null,
   "metadata": {},
   "outputs": [],
   "source": [
    "# Define regressor and wrap around transformed target regressor\n",
    "regressor = XGBRegressor(n_jobs=12, random_state=0)\n",
    "model = TransformedTargetRegressor(\n",
    "    regressor=regressor, func=np.log1p, inverse_func=np.expm1)"
   ]
  },
  {
   "cell_type": "code",
   "execution_count": null,
   "metadata": {},
   "outputs": [],
   "source": [
    "clf = Pipeline(steps=[('preprocessor', preprocessor),\n",
    "                      ('feature_selection', SelectFromModel(DecisionTreeClassifier())),\n",
    "                      ('classifier',   model)])"
   ]
  },
  {
   "cell_type": "code",
   "execution_count": null,
   "metadata": {},
   "outputs": [],
   "source": [
    "param_grid = {\n",
    "    'preprocessor__realMult__imputer__strategy': ['median', 'mean'],\n",
    "    'preprocessor__count__imputer__strategy':    ['median', 'most_frequent', 'constant'],\n",
    "    'preprocessor__category__imputer__strategy': ['constant', 'most_frequent'],\n",
    "    'preprocessor__ordinal__imputer__strategy':  ['constant', 'most_frequent'],\n",
    "    'classifier__regressor__n_estimators': [100, 500, 1000],\n",
    "    'classifier__regressor__learning_rate': [0.01, 0.05, 0.1]\n",
    "}\n",
    "print(f'Parameter combindations: {len(ParameterGrid(param_grid))}')"
   ]
  },
  {
   "cell_type": "code",
   "execution_count": null,
   "metadata": {},
   "outputs": [],
   "source": [
    "# Configure the cross-validation procedure\n",
    "cv = KFold(n_splits=12, shuffle=True, random_state=1)"
   ]
  },
  {
   "cell_type": "code",
   "execution_count": null,
   "metadata": {},
   "outputs": [],
   "source": [
    "grid_search = GridSearchCV(clf, param_grid, cv=cv, refit=True, verbose=10)"
   ]
  },
  {
   "cell_type": "code",
   "execution_count": null,
   "metadata": {},
   "outputs": [],
   "source": [
    "grid_search.fit(X, y)"
   ]
  },
  {
   "cell_type": "code",
   "execution_count": null,
   "metadata": {},
   "outputs": [],
   "source": [
    "best_params = grid_search.best_params_\n",
    "print(best_params)"
   ]
  },
  {
   "cell_type": "code",
   "execution_count": null,
   "metadata": {},
   "outputs": [],
   "source": [
    "preds = grid_search.predict(X_valid)\n",
    "print(mean_squared_error(np.log(y_valid), np.log(preds), squared=False))\n",
    "\n",
    "output = pd.DataFrame({'Id': X_valid.index,\n",
    "                       'SalePrice': preds})\n",
    "output\n",
    "output.to_csv('submission.csv', index=False)"
   ]
  },
  {
   "cell_type": "code",
   "execution_count": null,
   "metadata": {},
   "outputs": [],
   "source": [
    "output"
   ]
  },
  {
   "cell_type": "code",
   "execution_count": null,
   "metadata": {},
   "outputs": [],
   "source": [
    "X_test = pd.read_csv(testData, index_col='Id')\n",
    "# Initiliase pre-model data processing\n",
    "processor = processHousePrices()\n",
    "X_test = processor.prepData(X_test)\n",
    "preds = grid_search.predict(X_test)\n",
    "output = pd.DataFrame({'Id': X_test.index,\n",
    "                       'SalePrice': preds})\n",
    "output\n",
    "output.to_csv('submission.csv', index=False)"
   ]
  },
  {
   "cell_type": "code",
   "execution_count": null,
   "metadata": {},
   "outputs": [],
   "source": [
    "    if False:\n",
    "        X['Alley'] = X['Alley'].fillna('None')\n",
    "        # BedroomAbvGr : NA most likely means 0\n",
    "        X['BedroomAbvGr'] = X['BedroomAbvGr'].fillna(0)\n",
    "        # BsmtQual etc : data description says NA for basement features is 'no basement'\n",
    "        X['BsmtQual'] = X['BsmtQual'].fillna('No')\n",
    "        X['BsmtCond'] = X['BsmtCond'].fillna('No')\n",
    "        X['BsmtExposure'] = X['BsmtExposure'].fillna('No')\n",
    "        X['BsmtFinType1'] = X['BsmtFinType1'].fillna('No')\n",
    "        X['BsmtFinType2'] = X['BsmtFinType2'].fillna('No')\n",
    "        X['BsmtFullBath'] = X['BsmtFullBath'].fillna(0)\n",
    "        X['BsmtHalfBath'] = X['BsmtHalfBath'].fillna(0)\n",
    "        X['BsmtUnfSF'] = X['BsmtUnfSF'].fillna(0)\n",
    "        # CentralAir : NA most likely means No\n",
    "        X['CentralAir'] = X['CentralAir'].fillna('N')\n",
    "        # Condition : NA most likely means Normal\n",
    "        X['Condition1'] = X['Condition1'].fillna('Norm')\n",
    "        X['Condition2'] = X['Condition2'].fillna('Norm')\n",
    "        # EnclosedPorch : NA most likely means no enclosed porch\n",
    "        X['EnclosedPorch'] = X['EnclosedPorch'].fillna(0)\n",
    "        # External stuff : NA most likely means average\n",
    "        X['ExterCond'] = X['ExterCond'].fillna('TA')\n",
    "        X['ExterQual'] = X['ExterQual'].fillna('TA')\n",
    "        # Fence : data description says NA means 'no fence'\n",
    "        X['Fence'] = X['Fence'].fillna('No')\n",
    "        # FireplaceQu : data description says NA means 'no fireplace'\n",
    "        X['FireplaceQu'] = X['FireplaceQu'].fillna('No')\n",
    "        X['Fireplaces'] = X['Fireplaces'].fillna(0)\n",
    "        # Functional : data description says NA means typical\n",
    "        X['Functional'] = X['Functional'].fillna('Typ')\n",
    "        # GarageType etc : data description says NA for garage features is 'no garage'\n",
    "        X['GarageType'] = X['GarageType'].fillna('No')\n",
    "        X['GarageFinish'] = X['GarageFinish'].fillna('No')\n",
    "        X['GarageQual'] = X['GarageQual'].fillna('No')\n",
    "        X['GarageCond'] = X['GarageCond'].fillna('No')\n",
    "        X['GarageArea'] = X['GarageArea'].fillna(0)\n",
    "        X['GarageCars'] = X['GarageCars'].fillna(0)\n",
    "        # HalfBath : NA most likely means no half baths above grade\n",
    "        X['HalfBath'] = X['HalfBath'].fillna(0)\n",
    "        # HeatingQC : NA most likely means typical\n",
    "        X['HeatingQC'] = X['HeatingQC'].fillna('TA')\n",
    "        # KitchenAbvGr : NA most likely means 0\n",
    "        X['KitchenAbvGr'] = X['KitchenAbvGr'].fillna(0)\n",
    "        # KitchenQual : NA most likely means typical\n",
    "        X['KitchenQual'] = X['KitchenQual'].fillna('TA')\n",
    "        # LotFrontage : NA most likely means no lot frontage\n",
    "        X['LotFrontage'] = X['LotFrontage'].fillna(0)\n",
    "        # LotShape : NA most likely means regular\n",
    "        X['LotShape'] = X['LotShape'].fillna('Reg')\n",
    "        # MasVnrType : NA most likely means no veneer\n",
    "        X['MasVnrType'] = X['MasVnrType'].fillna('None')\n",
    "        X['MasVnrArea'] = X['MasVnrArea'].fillna(0)\n",
    "        # MiscFeature : data description says NA means 'no misc feature'\n",
    "        X['MiscFeature'] = X['MiscFeature'].fillna('No')\n",
    "        X['MiscVal'] = X['MiscVal'].fillna(0)\n",
    "        # OpenPorchSF : NA most likely means no open porch\n",
    "        X['OpenPorchSF'] = X['OpenPorchSF'].fillna(0)\n",
    "        # PavedDrive : NA most likely means not paved\n",
    "        X['PavedDrive'] = X['PavedDrive'].fillna('N')\n",
    "        # PoolQC : data description says NA means 'no pool'\n",
    "        X['PoolQC'] = X['PoolQC'].fillna('No')\n",
    "        X['PoolArea'] = X['PoolArea'].fillna(0)\n",
    "        # SaleCondition : NA most likely means normal sale\n",
    "        X['SaleCondition'] = X['SaleCondition'].fillna('Normal')\n",
    "        # ScreenPorch : NA most likely means no screen porch\n",
    "        X['ScreenPorch'] = X['ScreenPorch'].fillna(0)\n",
    "        # TotRmsAbvGrd : NA most likely means 0\n",
    "        X['TotRmsAbvGrd'] = X['TotRmsAbvGrd'].fillna(0)\n",
    "        # Utilities : NA most likely means all public utilities\n",
    "        X['Utilities'] = X['Utilities'].fillna('AllPub')\n",
    "        # WoodDeckSF : NA most likely means no wood deck\n",
    "        X['WoodDeckSF'] = X['WoodDeckSF'].fillna(0)"
   ]
  },
  {
   "cell_type": "code",
   "execution_count": null,
   "metadata": {},
   "outputs": [],
   "source": [
    "grid_search."
   ]
  }
 ],
 "metadata": {
  "kernelspec": {
   "display_name": "Python 3",
   "language": "python",
   "name": "python3"
  },
  "language_info": {
   "codemirror_mode": {
    "name": "ipython",
    "version": 3
   },
   "file_extension": ".py",
   "mimetype": "text/x-python",
   "name": "python",
   "nbconvert_exporter": "python",
   "pygments_lexer": "ipython3",
   "version": "3.7.3"
  }
 },
 "nbformat": 4,
 "nbformat_minor": 4
}
