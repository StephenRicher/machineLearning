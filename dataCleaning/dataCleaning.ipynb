{
 "cells": [
  {
   "cell_type": "code",
   "execution_count": 199,
   "metadata": {},
   "outputs": [],
   "source": [
    "import sys\n",
    "import numpy as np\n",
    "import pandas as pd"
   ]
  },
  {
   "cell_type": "code",
   "execution_count": 200,
   "metadata": {},
   "outputs": [],
   "source": [
    "def invalidEntries(data, regex):\n",
    "    invalid = data.loc[data.astype(str).str.extract(regex, expand=False).isna()]\n",
    "    NAvalues = invalid.isna().sum()\n",
    "    \n",
    "    print(f'{len(invalid)} invalid entries ({NAvalues} NA) in {data.name}.', file=sys.stderr)\n",
    "    return invalid"
   ]
  },
  {
   "cell_type": "code",
   "execution_count": 201,
   "metadata": {},
   "outputs": [],
   "source": [
    "df = pd.read_csv('BL-Flickr-Images-Book.csv')\n",
    "to_drop = ['Edition Statement', 'Corporate Author', \n",
    "           'Corporate Contributors','Former owner', \n",
    "           'Engraver', 'Contributors', 'Issuance type',\n",
    "           'Shelfmarks']\n",
    "df.drop(columns=to_drop, inplace=True)"
   ]
  },
  {
   "cell_type": "code",
   "execution_count": 202,
   "metadata": {},
   "outputs": [],
   "source": [
    "assert df['Identifier'].is_unique\n",
    "df = df.set_index('Identifier')"
   ]
  },
  {
   "cell_type": "code",
   "execution_count": 203,
   "metadata": {},
   "outputs": [
    {
     "name": "stderr",
     "output_type": "stream",
     "text": [
      "1759 invalid entries (181 NA) in Date of Publication.\n"
     ]
    },
    {
     "data": {
      "text/plain": [
       "Identifier\n",
       "595033            1870, 75\n",
       "1281331            [1808?]\n",
       "990977              [1894]\n",
       "3583974             [1890]\n",
       "1571190            [1832?]\n",
       "3100705       1899[-1902?]\n",
       "1663276           1843, 42\n",
       "2179454        1748 [1768]\n",
       "3489130    1855, [1849]-71\n",
       "3505234             [1876]\n",
       "Name: Date of Publication, dtype: object"
      ]
     },
     "execution_count": 203,
     "metadata": {},
     "output_type": "execute_result"
    }
   ],
   "source": [
    "yearRegex = r'^(\\d{4})$'\n",
    "invalidEntries(df['Date of Publication'], yearRegex).sample(10)"
   ]
  },
  {
   "cell_type": "code",
   "execution_count": 204,
   "metadata": {},
   "outputs": [
    {
     "name": "stderr",
     "output_type": "stream",
     "text": [
      "971 invalid entries (971 NA) in Date of Publication.\n"
     ]
    }
   ],
   "source": [
    "validYears = df['Date of Publication'].str.extract(r'^(\\d{4})', expand=False)\n",
    "# Convert years to numeric and cast to Int64 (which allows NA for integer)\n",
    "df['Date of Publication'] = pd.to_numeric(validYears).astype(pd.Int64Dtype())\n",
    "# Ensure all non-NA entries match the expected regex\n",
    "assert invalidEntries(validYears, r'^(\\d{4})$').dropna().empty"
   ]
  },
  {
   "cell_type": "code",
   "execution_count": 130,
   "metadata": {},
   "outputs": [
    {
     "data": {
      "text/plain": [
       "Place of Publication    object\n",
       "Date of Publication      Int32\n",
       "Publisher               object\n",
       "Title                   object\n",
       "Author                  object\n",
       "Flickr URL              object\n",
       "dtype: object"
      ]
     },
     "execution_count": 130,
     "metadata": {},
     "output_type": "execute_result"
    }
   ],
   "source": []
  },
  {
   "cell_type": "code",
   "execution_count": 51,
   "metadata": {},
   "outputs": [
    {
     "data": {
      "text/plain": [
       "True"
      ]
     },
     "execution_count": 51,
     "metadata": {},
     "output_type": "execute_result"
    }
   ],
   "source": [
    "invalidEntries(df['Date of Publication'], r'^(\\d{4})$').dropna().empty"
   ]
  },
  {
   "cell_type": "code",
   "execution_count": 118,
   "metadata": {},
   "outputs": [],
   "source": [
    "df['Date of Publication'] = pd.to_numeric(validYears, downcast='integer')"
   ]
  },
  {
   "cell_type": "code",
   "execution_count": 121,
   "metadata": {},
   "outputs": [
    {
     "data": {
      "text/plain": [
       "Identifier\n",
       "206        1879\n",
       "216        1868\n",
       "218        1869\n",
       "472        1851\n",
       "480        1857\n",
       "           ... \n",
       "4158088    1838\n",
       "4158128    1831\n",
       "4159563    <NA>\n",
       "4159587    1834\n",
       "4160339    1834\n",
       "Name: Date of Publication, Length: 8287, dtype: Int32"
      ]
     },
     "execution_count": 121,
     "metadata": {},
     "output_type": "execute_result"
    }
   ],
   "source": [
    "df['Date of Publication'].astype(pd.Int32Dtype())"
   ]
  },
  {
   "cell_type": "code",
   "execution_count": 161,
   "metadata": {},
   "outputs": [
    {
     "data": {
      "text/plain": [
       "['1', '2', '3']"
      ]
     },
     "execution_count": 161,
     "metadata": {},
     "output_type": "execute_result"
    }
   ],
   "source": [
    "list(np.array([1,2,3]).astype(str))"
   ]
  },
  {
   "cell_type": "code",
   "execution_count": null,
   "metadata": {},
   "outputs": [],
   "source": []
  }
 ],
 "metadata": {
  "kernelspec": {
   "display_name": "Python 3",
   "language": "python",
   "name": "python3"
  },
  "language_info": {
   "codemirror_mode": {
    "name": "ipython",
    "version": 3
   },
   "file_extension": ".py",
   "mimetype": "text/x-python",
   "name": "python",
   "nbconvert_exporter": "python",
   "pygments_lexer": "ipython3",
   "version": "3.7.3"
  }
 },
 "nbformat": 4,
 "nbformat_minor": 4
}
